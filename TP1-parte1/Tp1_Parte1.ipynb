{
  "nbformat": 4,
  "nbformat_minor": 0,
  "metadata": {
    "colab": {
      "provenance": [],
      "toc_visible": true
    },
    "kernelspec": {
      "name": "python3",
      "display_name": "Python 3"
    },
    "language_info": {
      "name": "python"
    }
  },
  "cells": [
    {
      "cell_type": "markdown",
      "source": [
        "#Trabajo Práctico N° 1 - Parte 1 - Procesos"
      ],
      "metadata": {
        "id": "jQIbcBriNDVc"
      }
    },
    {
      "cell_type": "markdown",
      "source": [
        "Integrantes:\n",
        "\n",
        "\n",
        "*   Emanuel Rodriguez\n",
        "*   Ezequiel Catania\n",
        "* Julian Castellana\n",
        "* Miguel Ledesma\n",
        "* Santiago Galo\n",
        "\n"
      ],
      "metadata": {
        "id": "qxbSg2tvNDpJ"
      }
    },
    {
      "cell_type": "markdown",
      "source": [
        "# Ejercicio 1 - Árbol de procesos con C"
      ],
      "metadata": {
        "id": "cyqdOSPF0LAR"
      }
    },
    {
      "cell_type": "markdown",
      "source": [
        "Recomendamos CTRL + F9 o \"Ejecutar todo\" para no tener que ir ejecutando línea por línea.\n",
        "![ejecutar_TD.png](data:image/png;base64,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)"
      ],
      "metadata": {
        "id": "FPbbNUK69m6B"
      }
    },
    {
      "cell_type": "markdown",
      "source": [
        "Instalamos lo necesario en nuestra VM prestada por google 😆"
      ],
      "metadata": {
        "id": "T2RzKMgS06Gx"
      }
    },
    {
      "cell_type": "code",
      "source": [
        "!apt-get update"
      ],
      "metadata": {
        "colab": {
          "base_uri": "https://localhost:8080/"
        },
        "id": "W2nc9csk04gi",
        "outputId": "3ba4a3ed-3f1b-4a8e-b975-c7f352040354"
      },
      "execution_count": 1,
      "outputs": [
        {
          "output_type": "stream",
          "name": "stdout",
          "text": [
            "Get:1 https://cloud.r-project.org/bin/linux/ubuntu jammy-cran40/ InRelease [3,632 B]\n",
            "Hit:2 https://developer.download.nvidia.com/compute/cuda/repos/ubuntu2204/x86_64  InRelease\n",
            "Hit:3 http://archive.ubuntu.com/ubuntu jammy InRelease\n",
            "Get:4 http://security.ubuntu.com/ubuntu jammy-security InRelease [129 kB]\n",
            "Get:5 http://archive.ubuntu.com/ubuntu jammy-updates InRelease [128 kB]\n",
            "Get:6 https://r2u.stat.illinois.edu/ubuntu jammy InRelease [6,555 B]\n",
            "Get:7 https://r2u.stat.illinois.edu/ubuntu jammy/main amd64 Packages [2,715 kB]\n",
            "Hit:8 https://ppa.launchpadcontent.net/deadsnakes/ppa/ubuntu jammy InRelease\n",
            "Hit:9 https://ppa.launchpadcontent.net/graphics-drivers/ppa/ubuntu jammy InRelease\n",
            "Get:10 http://archive.ubuntu.com/ubuntu jammy-backports InRelease [127 kB]\n",
            "Hit:11 https://ppa.launchpadcontent.net/ubuntugis/ppa/ubuntu jammy InRelease\n",
            "Get:12 http://security.ubuntu.com/ubuntu jammy-security/main amd64 Packages [2,901 kB]\n",
            "Get:13 http://archive.ubuntu.com/ubuntu jammy-updates/universe amd64 Packages [1,545 kB]\n",
            "Get:14 http://archive.ubuntu.com/ubuntu jammy-updates/main amd64 Packages [3,208 kB]\n",
            "Get:15 https://r2u.stat.illinois.edu/ubuntu jammy/main all Packages [8,909 kB]\n",
            "Get:16 http://security.ubuntu.com/ubuntu jammy-security/multiverse amd64 Packages [47.7 kB]\n",
            "Get:17 http://security.ubuntu.com/ubuntu jammy-security/restricted amd64 Packages [4,282 kB]\n",
            "Get:18 http://archive.ubuntu.com/ubuntu jammy-updates/restricted amd64 Packages [4,428 kB]\n",
            "Get:19 http://archive.ubuntu.com/ubuntu jammy-backports/main amd64 Packages [83.2 kB]\n",
            "Get:20 http://security.ubuntu.com/ubuntu jammy-security/universe amd64 Packages [1,245 kB]\n",
            "Fetched 29.8 MB in 6s (5,336 kB/s)\n",
            "Reading package lists... Done\n",
            "W: Skipping acquire of configured file 'main/source/Sources' as repository 'https://r2u.stat.illinois.edu/ubuntu jammy InRelease' does not seem to provide it (sources.list entry misspelt?)\n"
          ]
        }
      ]
    },
    {
      "cell_type": "code",
      "source": [
        "!apt-get install gcc"
      ],
      "metadata": {
        "colab": {
          "base_uri": "https://localhost:8080/"
        },
        "id": "LcdxKxLy1CYX",
        "outputId": "6a083daa-ec7e-4e8e-ce35-f0763a7a285a"
      },
      "execution_count": 2,
      "outputs": [
        {
          "output_type": "stream",
          "name": "stdout",
          "text": [
            "Reading package lists... Done\n",
            "Building dependency tree... Done\n",
            "Reading state information... Done\n",
            "gcc is already the newest version (4:11.2.0-1ubuntu1).\n",
            "gcc set to manually installed.\n",
            "0 upgraded, 0 newly installed, 0 to remove and 38 not upgraded.\n"
          ]
        }
      ]
    },
    {
      "cell_type": "markdown",
      "source": [
        "Empezamos escribiendo el programa que se va a llamar fork.c. Utilizamos el writefile ya que, como fue explicado en clase, colab detecta solo python automaticamente y para compilarlo, ejecutarlo, necesitaremos guardar en un archivo c"
      ],
      "metadata": {
        "id": "DcYHjSjE0PJc"
      }
    },
    {
      "cell_type": "code",
      "source": [
        "%%writefile fork.c\n",
        "\n",
        "#include <stdio.h>\n",
        "#include <stdlib.h>\n",
        "#include <unistd.h>\n",
        "#include <sys/wait.h>\n",
        "\n",
        "#define PROCESS_A 'A'\n",
        "#define PROCESS_B 'B'\n",
        "#define PROCESS_C 'C'\n",
        "#define PROCESS_D 'D'\n",
        "#define PROCESS_E 'E'\n",
        "#define PROCESS_F 'F'\n",
        "#define PROCESS_G 'G'\n",
        "#define PROCESS_H 'H'\n",
        "#define PROCESS_I 'I'\n",
        "\n",
        "#define SLEEP_TIME_10 10\n",
        "#define SLEEP_TIME_20 20\n",
        "\n",
        "\n",
        "void error(char letter)\n",
        "{\n",
        "    printf(\"Error de creacion en el proceso %c\\n\", letter);\n",
        "    exit(EXIT_FAILURE);\n",
        "}\n",
        "\n",
        "void process(char letter)\n",
        "{\n",
        "    pid_t pid = getpid();\n",
        "    pid_t ppid = getppid();\n",
        "    printf(\"Proceso %c (PID: %d) (PPID: %d)\\n\", letter, pid, ppid);\n",
        "\n",
        "    if (letter == PROCESS_A)\n",
        "    {\n",
        "        pid_t b = fork();\n",
        "        if (b < 0)\n",
        "        {\n",
        "            error(PROCESS_B);\n",
        "        }\n",
        "        else if (b == 0)\n",
        "        {\n",
        "            process(PROCESS_B);\n",
        "            exit(EXIT_SUCCESS);\n",
        "        }\n",
        "        sleep(SLEEP_TIME_20);\n",
        "        wait(NULL);\n",
        "    }\n",
        "    else if (letter == PROCESS_B)\n",
        "    {\n",
        "        pid_t c = fork();\n",
        "        if (c < 0)\n",
        "        {\n",
        "            error(PROCESS_C);\n",
        "        } else if (c == 0)\n",
        "        {\n",
        "            process(PROCESS_C);\n",
        "            sleep(SLEEP_TIME_10);\n",
        "            exit(EXIT_SUCCESS);\n",
        "        }\n",
        "\n",
        "        pid_t d = fork();\n",
        "        if (d < 0)\n",
        "        {\n",
        "            error(PROCESS_D);\n",
        "        } else if (d == 0)\n",
        "        {\n",
        "            process(PROCESS_D);\n",
        "            sleep(SLEEP_TIME_10);\n",
        "            exit(EXIT_SUCCESS);\n",
        "        }\n",
        "\n",
        "        sleep(SLEEP_TIME_20);\n",
        "        wait(NULL);\n",
        "        wait(NULL);\n",
        "    }\n",
        "    else if (letter == PROCESS_D)\n",
        "    {\n",
        "        pid_t f = fork();\n",
        "        if (f < 0)\n",
        "        {\n",
        "            error(PROCESS_F);\n",
        "        } else if (f == 0)\n",
        "        {\n",
        "            process(PROCESS_F);\n",
        "            sleep(SLEEP_TIME_10);\n",
        "            exit(EXIT_SUCCESS);\n",
        "        }\n",
        "\n",
        "        pid_t g = fork();\n",
        "        if (g < 0)\n",
        "        {\n",
        "            error(PROCESS_F);\n",
        "        } else if (g == 0)\n",
        "        {\n",
        "            process(PROCESS_F);\n",
        "            sleep(SLEEP_TIME_10);\n",
        "            exit(EXIT_SUCCESS);\n",
        "        }\n",
        "\n",
        "        sleep(SLEEP_TIME_20);\n",
        "        wait(NULL);\n",
        "        wait(NULL);\n",
        "    }\n",
        "    else if (letter == PROCESS_C)\n",
        "    {\n",
        "        pid_t e = fork();\n",
        "        if (e < 0)\n",
        "        {\n",
        "            error(PROCESS_E);\n",
        "        } else if (e == 0)\n",
        "        {\n",
        "            process(PROCESS_E);\n",
        "            sleep(SLEEP_TIME_10);\n",
        "            exit(EXIT_SUCCESS);\n",
        "        }\n",
        "        wait(NULL);\n",
        "    }\n",
        "    else if (letter == PROCESS_E)\n",
        "    {\n",
        "        pid_t h = fork();\n",
        "        if (h < 0)\n",
        "        {\n",
        "            error(PROCESS_H);\n",
        "        } else if (h == 0)\n",
        "        {\n",
        "            process(PROCESS_H);\n",
        "            sleep(SLEEP_TIME_10);\n",
        "            exit(EXIT_SUCCESS);\n",
        "        }\n",
        "\n",
        "        pid_t i = fork();\n",
        "        if (i < 0)\n",
        "        {\n",
        "            error(PROCESS_I);\n",
        "        } else if (i == 0)\n",
        "        {\n",
        "            process(PROCESS_I);\n",
        "            sleep(SLEEP_TIME_10);\n",
        "            exit(EXIT_SUCCESS);\n",
        "        }\n",
        "\n",
        "        wait(NULL);\n",
        "        wait(NULL);\n",
        "    }\n",
        "    else\n",
        "    {\n",
        "        sleep(10);\n",
        "    }\n",
        "}\n",
        "\n",
        "int main()\n",
        "{\n",
        "    process(PROCESS_A);\n",
        "    return 0;\n",
        "}\n"
      ],
      "metadata": {
        "colab": {
          "base_uri": "https://localhost:8080/"
        },
        "id": "-UHrn94G0uqa",
        "outputId": "9c468840-3247-412b-c388-d9a49c65a053"
      },
      "execution_count": 3,
      "outputs": [
        {
          "output_type": "stream",
          "name": "stdout",
          "text": [
            "Writing fork.c\n"
          ]
        }
      ]
    },
    {
      "cell_type": "markdown",
      "source": [
        "Compilamos nuestro archivo c"
      ],
      "metadata": {
        "id": "Ku2TtvgD1KGn"
      }
    },
    {
      "cell_type": "code",
      "source": [
        "!gcc -o fork.bin fork.c"
      ],
      "metadata": {
        "id": "38FRS6ZH1MKd"
      },
      "execution_count": 4,
      "outputs": []
    },
    {
      "cell_type": "markdown",
      "source": [
        "Verificamos si están los archivos"
      ],
      "metadata": {
        "id": "18ORqOaF1UoV"
      }
    },
    {
      "cell_type": "code",
      "source": [
        "!ls"
      ],
      "metadata": {
        "colab": {
          "base_uri": "https://localhost:8080/"
        },
        "id": "eqQXNbQ81XLW",
        "outputId": "a56cca9e-e475-4737-8dab-656e8072abbb"
      },
      "execution_count": 5,
      "outputs": [
        {
          "output_type": "stream",
          "name": "stdout",
          "text": [
            "fork.bin  fork.c  sample_data\n"
          ]
        }
      ]
    },
    {
      "cell_type": "markdown",
      "source": [
        "Luego de compilarlo, vamos a ejecutarlo como daemon en segundo plano. ¿Por qué?\n",
        "El comadno **nohup** hace que el proceso siga ejecutándose incluso si la terminal se cierra. Sin esto no sería posible evaluarlo.\n",
        "Si nosotros no pusiéramos el nohup (No Hang UP) no seríamos capaces de evaluar como se van creando los procesos, ya que Google COLAB nos permite solo una terminal"
      ],
      "metadata": {
        "id": "JxbPVk-76Bfj"
      }
    },
    {
      "cell_type": "code",
      "source": [
        "!nohup ./fork.bin 1>salidaC 2>/dev/null &"
      ],
      "metadata": {
        "id": "lyjUbb7v3KUZ"
      },
      "execution_count": 6,
      "outputs": []
    },
    {
      "cell_type": "markdown",
      "source": [
        "Guardamos el ID del proceso \"A\" en un archivo \"pid.txt\" para luego utilizarlo al llamar a pstree y ver su respectivo árbol de procesos"
      ],
      "metadata": {
        "id": "Dr6NnBzo9HnU"
      }
    },
    {
      "cell_type": "code",
      "source": [
        "!pgrep -f fork.bin | head -n 1 > pid.txt"
      ],
      "metadata": {
        "id": "LJWIjvfw8OnZ"
      },
      "execution_count": 7,
      "outputs": []
    },
    {
      "cell_type": "code",
      "source": [
        "!pid=$(pgrep -f fork.bin | head -n 1) && pstree -p $pid"
      ],
      "metadata": {
        "colab": {
          "base_uri": "https://localhost:8080/"
        },
        "id": "zbvn3M_G8UDz",
        "outputId": "b1246e77-fdc7-41a9-e5fc-6b60a31488a3"
      },
      "execution_count": 8,
      "outputs": [
        {
          "output_type": "stream",
          "name": "stdout",
          "text": [
            "fork.bin(2146)───fork.bin(2147)─┬─fork.bin(2148)───fork.bin(2150)─┬─fork.bin(2153)\n",
            "                                │                                 └─fork.bin(2154)\n",
            "                                └─fork.bin(2149)─┬─fork.bin(2151)\n",
            "                                                 └─fork.bin(2152)\n"
          ]
        }
      ]
    },
    {
      "cell_type": "markdown",
      "source": [
        "Este sería el comando que habría que ejecutar, pero no está automatizado y hay que indicarle que sobre que PID queremos ver el árbol de procesos"
      ],
      "metadata": {
        "id": "4jyH4tLI9ZAw"
      }
    },
    {
      "cell_type": "code",
      "source": [
        "!pstree -p 2852"
      ],
      "metadata": {
        "id": "hfiyfbX65kLB"
      },
      "execution_count": 9,
      "outputs": []
    },
    {
      "cell_type": "code",
      "source": [],
      "metadata": {
        "id": "VK1j5Y3l-2Nl"
      },
      "execution_count": 9,
      "outputs": []
    },
    {
      "cell_type": "markdown",
      "source": [
        "# Ejercicio 2"
      ],
      "metadata": {
        "id": "ciVwwihUIO_g"
      }
    },
    {
      "cell_type": "markdown",
      "source": [
        "**a.** El código de la imagen simula un juego de dados donde hay 5 jugadores que \"lanzan los dados\" 10 veces cada uno. Por cada jugador crea un proceso independiente y suma el valor aleatorio de los dados en cada uno de los lanzamientos, imprimiendo al final el puntaje total obtenido por el jugador. Como luego de cada tiro de dados se espera un tiempo aleatorio, el orden en que los jugadores hacen sus lanzamientos no es determinístico.\n",
        "\n",
        "Por último, el programa espera que finalicen todos los procesos/ jugadores."
      ],
      "metadata": {
        "id": "BCsRx-X4IZmC"
      }
    },
    {
      "cell_type": "markdown",
      "source": [
        "![Ejercicio 2 a.PNG](data:image/png;base64,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)"
      ],
      "metadata": {
        "id": "yt6GAqUubLdt"
      }
    },
    {
      "cell_type": "markdown",
      "source": [
        "**b.**  A continuación, desarrollamos el mismo programa en Python pero utilizando fork() en vez de Process."
      ],
      "metadata": {
        "id": "UZODC-6MM-K-"
      }
    },
    {
      "cell_type": "code",
      "source": [
        "import os\n",
        "import random\n",
        "import time\n",
        "import sys\n",
        "\n",
        "DICE_MIN_VALUE = 1\n",
        "DICE_MAX_VALUE = 6\n",
        "MIN_RANDOM_VALUE = 0.1\n",
        "MAX_RANDOM_VALUE = 0.3\n",
        "\n",
        "PLAYER = 5\n",
        "THROWS = 10\n",
        "\n",
        "def player(id):\n",
        "    sys.stdout.write(f\"Jugador {id} entra al juego.\\n\")\n",
        "    sys.stdout.flush()\n",
        "    points = 0\n",
        "    for i in range(THROWS):\n",
        "        dice = random.randint(DICE_MIN_VALUE, DICE_MAX_VALUE)\n",
        "        points += dice\n",
        "        sys.stdout.write(f\"Jugador {id} - Lanzamiento {i+1}: {dice}\\n\")\n",
        "        sys.stdout.flush()\n",
        "        time.sleep(random.uniform(MIN_RANDOM_VALUE, MAX_RANDOM_VALUE))\n",
        "    sys.stdout.write(f\"Jugador {id} finaliza con {points} puntos.\\n\")\n",
        "    sys.stdout.flush()\n",
        "\n",
        "def main():\n",
        "    children = [] #Creamos una lista para todos los procesos hijo\n",
        "\n",
        "    for i in range(PLAYER):\n",
        "\n",
        "        #Creamos un nuevo proceso hijo para cada jugador\n",
        "        pid = os.fork()\n",
        "        if pid == 0:\n",
        "            # Es el proceso hijo\n",
        "            player(i+1)\n",
        "            os._exit(os.EX_OK)  # Finalizamos el proceso hijo\n",
        "        else:\n",
        "            # Es el proceso padre\n",
        "            children.append(pid)\n",
        "\n",
        "    # Mediante su pid, esperamos a que todos los hijos terminen\n",
        "    for pid in children:\n",
        "        os.waitpid(pid, 0)\n",
        "\n",
        "    print(\"Todos los jugadores han terminado.\")\n",
        "\n",
        "if __name__ == \"__main__\":\n",
        "    main()\n"
      ],
      "metadata": {
        "colab": {
          "base_uri": "https://localhost:8080/"
        },
        "id": "UrXA-0FwIZLx",
        "outputId": "d0ac1cb6-2e3a-448c-df69-ae35235bcd01"
      },
      "execution_count": 10,
      "outputs": [
        {
          "output_type": "stream",
          "name": "stdout",
          "text": [
            "Jugador 1 entra al juego.\n",
            "Jugador 2 entra al juego.\n",
            "Jugador 1 - Lanzamiento 1: 6\n",
            "Jugador 4 entra al juego.\n",
            "Jugador 3 entra al juego.\n",
            "Jugador 3 - Lanzamiento 1: 5\n",
            "Jugador 2 - Lanzamiento 1: 1\n",
            "Jugador 4 - Lanzamiento 1: 2\n",
            "Jugador 5 entra al juego.\n",
            "Jugador 5 - Lanzamiento 1: 3\n",
            "Jugador 1 - Lanzamiento 2: 3\n",
            "Jugador 3 - Lanzamiento 2: 6\n",
            "Jugador 4 - Lanzamiento 2: 3\n",
            "Jugador 2 - Lanzamiento 2: 5\n",
            "Jugador 5 - Lanzamiento 2: 4\n",
            "Jugador 2 - Lanzamiento 3: 6\n",
            "Jugador 4 - Lanzamiento 3: 3\n",
            "Jugador 1 - Lanzamiento 3: 3\n",
            "Jugador 5 - Lanzamiento 3: 2\n",
            "Jugador 3 - Lanzamiento 3: 1\n",
            "Jugador 4 - Lanzamiento 4: 4\n",
            "Jugador 2 - Lanzamiento 4: 4\n",
            "Jugador 3 - Lanzamiento 4: 3\n",
            "Jugador 1 - Lanzamiento 4: 3\n",
            "Jugador 5 - Lanzamiento 4: 3\n",
            "Jugador 4 - Lanzamiento 5: 1\n",
            "Jugador 1 - Lanzamiento 5: 3\n",
            "Jugador 3 - Lanzamiento 5: 5\n",
            "Jugador 2 - Lanzamiento 5: 2\n",
            "Jugador 5 - Lanzamiento 5: 1\n",
            "Jugador 4 - Lanzamiento 6: 6\n",
            "Jugador 3 - Lanzamiento 6: 5\n",
            "Jugador 1 - Lanzamiento 6: 2\n",
            "Jugador 5 - Lanzamiento 6: 4\n",
            "Jugador 4 - Lanzamiento 7: 3\n",
            "Jugador 2 - Lanzamiento 6: 3\n",
            "Jugador 5 - Lanzamiento 7: 4\n",
            "Jugador 3 - Lanzamiento 7: 6\n",
            "Jugador 1 - Lanzamiento 7: 3\n",
            "Jugador 5 - Lanzamiento 8: 4\n",
            "Jugador 4 - Lanzamiento 8: 3\n",
            "Jugador 3 - Lanzamiento 8: 6\n",
            "Jugador 2 - Lanzamiento 7: 5\n",
            "Jugador 1 - Lanzamiento 8: 3\n",
            "Jugador 3 - Lanzamiento 9: 6\n",
            "Jugador 5 - Lanzamiento 9: 1\n",
            "Jugador 4 - Lanzamiento 9: 4\n",
            "Jugador 2 - Lanzamiento 8: 6\n",
            "Jugador 3 - Lanzamiento 10: 3\n",
            "Jugador 1 - Lanzamiento 9: 1\n",
            "Jugador 4 - Lanzamiento 10: 3\n",
            "Jugador 5 - Lanzamiento 10: 3\n",
            "Jugador 3 finaliza con 46 puntos.\n",
            "Jugador 2 - Lanzamiento 9: 1\n",
            "Jugador 1 - Lanzamiento 10: 4\n",
            "Jugador 4 finaliza con 32 puntos.\n",
            "Jugador 5 finaliza con 29 puntos.\n",
            "Jugador 2 - Lanzamiento 10: 3\n",
            "Jugador 1 finaliza con 31 puntos.\n",
            "Jugador 2 finaliza con 36 puntos.\n",
            "Todos los jugadores han terminado.\n"
          ]
        }
      ]
    },
    {
      "cell_type": "markdown",
      "source": [
        "# Ejercicio 3"
      ],
      "metadata": {
        "id": "rLHRRF3tPxRj"
      }
    },
    {
      "cell_type": "markdown",
      "source": [
        "Primero descargamos las dependencias necesarias para compilar Java"
      ],
      "metadata": {
        "id": "zEHQx4b4mmS9"
      }
    },
    {
      "cell_type": "code",
      "source": [
        "!apt update\n",
        "!apt install default-jdk -y\n"
      ],
      "metadata": {
        "id": "_iPSeoZo9Awu",
        "colab": {
          "base_uri": "https://localhost:8080/"
        },
        "outputId": "a657c4db-2330-435b-d6c6-414a509731fb"
      },
      "execution_count": 11,
      "outputs": [
        {
          "output_type": "stream",
          "name": "stdout",
          "text": [
            "\u001b[33m\r0% [Working]\u001b[0m\r            \rHit:1 https://cloud.r-project.org/bin/linux/ubuntu jammy-cran40/ InRelease\n",
            "Hit:2 https://developer.download.nvidia.com/compute/cuda/repos/ubuntu2204/x86_64  InRelease\n",
            "Hit:3 http://archive.ubuntu.com/ubuntu jammy InRelease\n",
            "Hit:4 http://security.ubuntu.com/ubuntu jammy-security InRelease\n",
            "Get:5 http://archive.ubuntu.com/ubuntu jammy-updates InRelease [128 kB]\n",
            "Hit:6 https://r2u.stat.illinois.edu/ubuntu jammy InRelease\n",
            "Hit:7 https://ppa.launchpadcontent.net/deadsnakes/ppa/ubuntu jammy InRelease\n",
            "Hit:8 https://ppa.launchpadcontent.net/graphics-drivers/ppa/ubuntu jammy InRelease\n",
            "Hit:9 https://ppa.launchpadcontent.net/ubuntugis/ppa/ubuntu jammy InRelease\n",
            "Get:10 http://archive.ubuntu.com/ubuntu jammy-backports InRelease [127 kB]\n",
            "Get:11 http://archive.ubuntu.com/ubuntu jammy-updates/main amd64 Packages [3,211 kB]\n",
            "Get:12 http://archive.ubuntu.com/ubuntu jammy-updates/restricted amd64 Packages [4,436 kB]\n",
            "Fetched 7,902 kB in 3s (2,317 kB/s)\n",
            "Reading package lists... Done\n",
            "Building dependency tree... Done\n",
            "Reading state information... Done\n",
            "38 packages can be upgraded. Run 'apt list --upgradable' to see them.\n",
            "\u001b[1;33mW: \u001b[0mSkipping acquire of configured file 'main/source/Sources' as repository 'https://r2u.stat.illinois.edu/ubuntu jammy InRelease' does not seem to provide it (sources.list entry misspelt?)\u001b[0m\n",
            "Reading package lists... Done\n",
            "Building dependency tree... Done\n",
            "Reading state information... Done\n",
            "The following additional packages will be installed:\n",
            "  default-jdk-headless default-jre default-jre-headless fonts-dejavu-core\n",
            "  fonts-dejavu-extra libatk-wrapper-java libatk-wrapper-java-jni libxt-dev\n",
            "  libxtst6 libxxf86dga1 openjdk-11-jdk openjdk-11-jdk-headless openjdk-11-jre\n",
            "  openjdk-11-jre-headless x11-utils\n",
            "Suggested packages:\n",
            "  libxt-doc openjdk-11-demo openjdk-11-source visualvm libnss-mdns\n",
            "  fonts-ipafont-gothic fonts-ipafont-mincho fonts-wqy-microhei\n",
            "  | fonts-wqy-zenhei fonts-indic mesa-utils\n",
            "The following NEW packages will be installed:\n",
            "  default-jdk default-jdk-headless default-jre default-jre-headless\n",
            "  fonts-dejavu-core fonts-dejavu-extra libatk-wrapper-java\n",
            "  libatk-wrapper-java-jni libxt-dev libxtst6 libxxf86dga1 openjdk-11-jdk\n",
            "  openjdk-11-jre x11-utils\n",
            "The following packages will be upgraded:\n",
            "  openjdk-11-jdk-headless openjdk-11-jre-headless\n",
            "2 upgraded, 14 newly installed, 0 to remove and 36 not upgraded.\n",
            "Need to get 123 MB of archives.\n",
            "After this operation, 17.0 MB of additional disk space will be used.\n",
            "Get:1 http://archive.ubuntu.com/ubuntu jammy-updates/main amd64 openjdk-11-jdk-headless amd64 11.0.27+6~us1-0ubuntu1~22.04 [73.6 MB]\n",
            "Get:2 http://archive.ubuntu.com/ubuntu jammy-updates/main amd64 openjdk-11-jre-headless amd64 11.0.27+6~us1-0ubuntu1~22.04 [42.6 MB]\n",
            "Get:3 http://archive.ubuntu.com/ubuntu jammy/main amd64 default-jre-headless amd64 2:1.11-72build2 [3,042 B]\n",
            "Get:4 http://archive.ubuntu.com/ubuntu jammy/main amd64 libxtst6 amd64 2:1.2.3-1build4 [13.4 kB]\n",
            "Get:5 http://archive.ubuntu.com/ubuntu jammy-updates/main amd64 openjdk-11-jre amd64 11.0.27+6~us1-0ubuntu1~22.04 [214 kB]\n",
            "Get:6 http://archive.ubuntu.com/ubuntu jammy/main amd64 default-jre amd64 2:1.11-72build2 [896 B]\n",
            "Get:7 http://archive.ubuntu.com/ubuntu jammy/main amd64 default-jdk-headless amd64 2:1.11-72build2 [942 B]\n",
            "Get:8 http://archive.ubuntu.com/ubuntu jammy-updates/main amd64 openjdk-11-jdk amd64 11.0.27+6~us1-0ubuntu1~22.04 [2,895 kB]\n",
            "Get:9 http://archive.ubuntu.com/ubuntu jammy/main amd64 default-jdk amd64 2:1.11-72build2 [908 B]\n",
            "Get:10 http://archive.ubuntu.com/ubuntu jammy/main amd64 fonts-dejavu-core all 2.37-2build1 [1,041 kB]\n",
            "Get:11 http://archive.ubuntu.com/ubuntu jammy/main amd64 fonts-dejavu-extra all 2.37-2build1 [2,041 kB]\n",
            "Get:12 http://archive.ubuntu.com/ubuntu jammy/main amd64 libxxf86dga1 amd64 2:1.1.5-0ubuntu3 [12.6 kB]\n",
            "Get:13 http://archive.ubuntu.com/ubuntu jammy/main amd64 x11-utils amd64 7.7+5build2 [206 kB]\n",
            "Get:14 http://archive.ubuntu.com/ubuntu jammy/main amd64 libatk-wrapper-java all 0.38.0-5build1 [53.1 kB]\n",
            "Get:15 http://archive.ubuntu.com/ubuntu jammy/main amd64 libatk-wrapper-java-jni amd64 0.38.0-5build1 [49.0 kB]\n",
            "Get:16 http://archive.ubuntu.com/ubuntu jammy/main amd64 libxt-dev amd64 1:1.2.1-1 [396 kB]\n",
            "Fetched 123 MB in 8s (14.7 MB/s)\n",
            "(Reading database ... 126102 files and directories currently installed.)\n",
            "Preparing to unpack .../00-openjdk-11-jdk-headless_11.0.27+6~us1-0ubuntu1~22.04_amd64.deb ...\n",
            "Unpacking openjdk-11-jdk-headless:amd64 (11.0.27+6~us1-0ubuntu1~22.04) over (11.0.26+4-1ubuntu1~22.04) ...\n",
            "Preparing to unpack .../01-openjdk-11-jre-headless_11.0.27+6~us1-0ubuntu1~22.04_amd64.deb ...\n",
            "Unpacking openjdk-11-jre-headless:amd64 (11.0.27+6~us1-0ubuntu1~22.04) over (11.0.26+4-1ubuntu1~22.04) ...\n",
            "Selecting previously unselected package default-jre-headless.\n",
            "Preparing to unpack .../02-default-jre-headless_2%3a1.11-72build2_amd64.deb ...\n",
            "Unpacking default-jre-headless (2:1.11-72build2) ...\n",
            "Selecting previously unselected package libxtst6:amd64.\n",
            "Preparing to unpack .../03-libxtst6_2%3a1.2.3-1build4_amd64.deb ...\n",
            "Unpacking libxtst6:amd64 (2:1.2.3-1build4) ...\n",
            "Selecting previously unselected package openjdk-11-jre:amd64.\n",
            "Preparing to unpack .../04-openjdk-11-jre_11.0.27+6~us1-0ubuntu1~22.04_amd64.deb ...\n",
            "Unpacking openjdk-11-jre:amd64 (11.0.27+6~us1-0ubuntu1~22.04) ...\n",
            "Selecting previously unselected package default-jre.\n",
            "Preparing to unpack .../05-default-jre_2%3a1.11-72build2_amd64.deb ...\n",
            "Unpacking default-jre (2:1.11-72build2) ...\n",
            "Selecting previously unselected package default-jdk-headless.\n",
            "Preparing to unpack .../06-default-jdk-headless_2%3a1.11-72build2_amd64.deb ...\n",
            "Unpacking default-jdk-headless (2:1.11-72build2) ...\n",
            "Selecting previously unselected package openjdk-11-jdk:amd64.\n",
            "Preparing to unpack .../07-openjdk-11-jdk_11.0.27+6~us1-0ubuntu1~22.04_amd64.deb ...\n",
            "Unpacking openjdk-11-jdk:amd64 (11.0.27+6~us1-0ubuntu1~22.04) ...\n",
            "Selecting previously unselected package default-jdk.\n",
            "Preparing to unpack .../08-default-jdk_2%3a1.11-72build2_amd64.deb ...\n",
            "Unpacking default-jdk (2:1.11-72build2) ...\n",
            "Selecting previously unselected package fonts-dejavu-core.\n",
            "Preparing to unpack .../09-fonts-dejavu-core_2.37-2build1_all.deb ...\n",
            "Unpacking fonts-dejavu-core (2.37-2build1) ...\n",
            "Selecting previously unselected package fonts-dejavu-extra.\n",
            "Preparing to unpack .../10-fonts-dejavu-extra_2.37-2build1_all.deb ...\n",
            "Unpacking fonts-dejavu-extra (2.37-2build1) ...\n",
            "Selecting previously unselected package libxxf86dga1:amd64.\n",
            "Preparing to unpack .../11-libxxf86dga1_2%3a1.1.5-0ubuntu3_amd64.deb ...\n",
            "Unpacking libxxf86dga1:amd64 (2:1.1.5-0ubuntu3) ...\n",
            "Selecting previously unselected package x11-utils.\n",
            "Preparing to unpack .../12-x11-utils_7.7+5build2_amd64.deb ...\n",
            "Unpacking x11-utils (7.7+5build2) ...\n",
            "Selecting previously unselected package libatk-wrapper-java.\n",
            "Preparing to unpack .../13-libatk-wrapper-java_0.38.0-5build1_all.deb ...\n",
            "Unpacking libatk-wrapper-java (0.38.0-5build1) ...\n",
            "Selecting previously unselected package libatk-wrapper-java-jni:amd64.\n",
            "Preparing to unpack .../14-libatk-wrapper-java-jni_0.38.0-5build1_amd64.deb ...\n",
            "Unpacking libatk-wrapper-java-jni:amd64 (0.38.0-5build1) ...\n",
            "Selecting previously unselected package libxt-dev:amd64.\n",
            "Preparing to unpack .../15-libxt-dev_1%3a1.2.1-1_amd64.deb ...\n",
            "Unpacking libxt-dev:amd64 (1:1.2.1-1) ...\n",
            "Setting up libxtst6:amd64 (2:1.2.3-1build4) ...\n",
            "Setting up openjdk-11-jre-headless:amd64 (11.0.27+6~us1-0ubuntu1~22.04) ...\n",
            "Installing new version of config file /etc/java-11-openjdk/security/java.security ...\n",
            "Setting up libxxf86dga1:amd64 (2:1.1.5-0ubuntu3) ...\n",
            "Setting up openjdk-11-jre:amd64 (11.0.27+6~us1-0ubuntu1~22.04) ...\n",
            "Setting up openjdk-11-jdk-headless:amd64 (11.0.27+6~us1-0ubuntu1~22.04) ...\n",
            "Setting up libxt-dev:amd64 (1:1.2.1-1) ...\n",
            "Setting up fonts-dejavu-core (2.37-2build1) ...\n",
            "Setting up fonts-dejavu-extra (2.37-2build1) ...\n",
            "Setting up x11-utils (7.7+5build2) ...\n",
            "Setting up openjdk-11-jdk:amd64 (11.0.27+6~us1-0ubuntu1~22.04) ...\n",
            "update-alternatives: using /usr/lib/jvm/java-11-openjdk-amd64/bin/jconsole to provide /usr/bin/jconsole (jconsole) in auto mode\n",
            "Setting up libatk-wrapper-java (0.38.0-5build1) ...\n",
            "Setting up default-jre-headless (2:1.11-72build2) ...\n",
            "Setting up default-jre (2:1.11-72build2) ...\n",
            "Setting up libatk-wrapper-java-jni:amd64 (0.38.0-5build1) ...\n",
            "Setting up default-jdk-headless (2:1.11-72build2) ...\n",
            "Setting up default-jdk (2:1.11-72build2) ...\n",
            "Processing triggers for mailcap (3.70+nmu1ubuntu1) ...\n",
            "Processing triggers for fontconfig (2.13.1-4.2ubuntu5) ...\n",
            "Processing triggers for hicolor-icon-theme (0.17-2) ...\n",
            "Processing triggers for libc-bin (2.35-0ubuntu3.8) ...\n",
            "/sbin/ldconfig.real: /usr/local/lib/libtbbmalloc.so.2 is not a symbolic link\n",
            "\n",
            "/sbin/ldconfig.real: /usr/local/lib/libumf.so.0 is not a symbolic link\n",
            "\n",
            "/sbin/ldconfig.real: /usr/local/lib/libur_adapter_opencl.so.0 is not a symbolic link\n",
            "\n",
            "/sbin/ldconfig.real: /usr/local/lib/libtbbbind_2_5.so.3 is not a symbolic link\n",
            "\n",
            "/sbin/ldconfig.real: /usr/local/lib/libtcm.so.1 is not a symbolic link\n",
            "\n",
            "/sbin/ldconfig.real: /usr/local/lib/libtbbbind.so.3 is not a symbolic link\n",
            "\n",
            "/sbin/ldconfig.real: /usr/local/lib/libur_adapter_level_zero.so.0 is not a symbolic link\n",
            "\n",
            "/sbin/ldconfig.real: /usr/local/lib/libur_loader.so.0 is not a symbolic link\n",
            "\n",
            "/sbin/ldconfig.real: /usr/local/lib/libtbbmalloc_proxy.so.2 is not a symbolic link\n",
            "\n",
            "/sbin/ldconfig.real: /usr/local/lib/libtcm_debug.so.1 is not a symbolic link\n",
            "\n",
            "/sbin/ldconfig.real: /usr/local/lib/libhwloc.so.15 is not a symbolic link\n",
            "\n",
            "/sbin/ldconfig.real: /usr/local/lib/libtbb.so.12 is not a symbolic link\n",
            "\n",
            "/sbin/ldconfig.real: /usr/local/lib/libtbbbind_2_0.so.3 is not a symbolic link\n",
            "\n",
            "Processing triggers for man-db (2.10.2-1) ...\n"
          ]
        }
      ]
    },
    {
      "cell_type": "markdown",
      "source": [
        "Una vez descargado todo, creamos el directorio de trabajo"
      ],
      "metadata": {
        "id": "67c51tpomt_N"
      }
    },
    {
      "cell_type": "code",
      "source": [
        "!mkdir -p PrograConcu"
      ],
      "metadata": {
        "id": "_rjqw2YO9ixw"
      },
      "execution_count": 12,
      "outputs": []
    },
    {
      "cell_type": "markdown",
      "source": [
        "Creamos la clase que va a modelar a una CamaraDeVigilancia, la cual recibe como parametros desde el Main.java la duracion, el intervalo entre reportes, la zona que va a vigilar y su ID."
      ],
      "metadata": {
        "id": "RKTRUSXmm_Ka"
      }
    },
    {
      "cell_type": "code",
      "source": [
        "%%writefile PrograConcu/SurveillanceCamera.java\n",
        "package PrograConcu;\n",
        "\n",
        "public class SurveillanceCamera {\n",
        "  public static void main(String[] args) throws InterruptedException {\n",
        "    int duration = Integer.parseInt(args[0]);\n",
        "    int interval = Integer.parseInt(args[1]);\n",
        "    String zone = args[2];\n",
        "    int cameraId = Integer.parseInt(args[3]);\n",
        "\n",
        "    long startTime = System.currentTimeMillis();\n",
        "    long runtime = duration * 1000L;\n",
        "    int paranormalEvents = 0;\n",
        "\n",
        "    while (System.currentTimeMillis() - startTime < runtime) {\n",
        "      int probability = (int) (Math.random() * 10) + 1;\n",
        "\n",
        "      try {\n",
        "        if (probability <= 3) {\n",
        "          System.out.println(\n",
        "              \"Camara: \" + cameraId + \" Zona: \" + zone + \" Evento: Sin actividad\");\n",
        "        } else if (probability <= 5) {\n",
        "          System.out.println(\n",
        "              \"Camara: \" + cameraId + \" Zona: \" + zone + \" Evento: Movimiento detectado\");\n",
        "          paranormalEvents++;\n",
        "        } else if (probability <= 7) {\n",
        "          System.out.println(\n",
        "              \"Camara: \" + cameraId + \" Zona: \" + zone + \" Evento: Anomalia termica\");\n",
        "          paranormalEvents++;\n",
        "        } else if (probability <= 9) {\n",
        "          System.out.println(\n",
        "              \"Camara: \" + cameraId + \" Zona: \" + zone + \" Evento: Ruido detectado\");\n",
        "          paranormalEvents++;\n",
        "        } else {\n",
        "          System.out.println(\n",
        "              \"Camara: \" + cameraId + \" Zona: \" + zone + \" Evento: Sombra extrania\");\n",
        "          paranormalEvents++;\n",
        "        }\n",
        "\n",
        "        Thread.sleep(interval * 1000L);\n",
        "\n",
        "      } catch (InterruptedException e) {\n",
        "        System.out.println(\"Camara interrumpida\");\n",
        "        break;\n",
        "      }\n",
        "    }\n",
        "\n",
        "    System.out.println(\n",
        "        \"La camara \" + cameraId + \" en la zona \" + zone\n",
        "            + \" tuvo \" + paranormalEvents + \" eventos paranormales\");\n",
        "  }\n",
        "}"
      ],
      "metadata": {
        "id": "tgYpQpYDPzGt",
        "colab": {
          "base_uri": "https://localhost:8080/"
        },
        "outputId": "06c3f8fd-56c3-4996-eea9-618a71569c98"
      },
      "execution_count": 13,
      "outputs": [
        {
          "output_type": "stream",
          "name": "stdout",
          "text": [
            "Writing PrograConcu/SurveillanceCamera.java\n"
          ]
        }
      ]
    },
    {
      "cell_type": "markdown",
      "source": [
        "La clase Main.java sera el proceso principal, por el que ejecutaremos el programa, y le pasaremos los parametros de la duracion y el intervalo entre cada reporte que queremos para las camaras.\n",
        "\n",
        "Este es el proceso encargado de iniciar las camaras y de luego esperar a su finalizacion."
      ],
      "metadata": {
        "id": "vh0to2CJniYP"
      }
    },
    {
      "cell_type": "code",
      "source": [
        "%%writefile PrograConcu/Main.java\n",
        "package PrograConcu;\n",
        "\n",
        "import java.io.IOException;\n",
        "import java.util.ArrayList;\n",
        "import java.util.List;\n",
        "\n",
        "public class Main {\n",
        "  public static void main(String[] args) throws IOException, InterruptedException {\n",
        "    int duration = Integer.parseInt(args[0]);\n",
        "    int interval = Integer.parseInt(args[1]);\n",
        "    int cameraId = 1;\n",
        "\n",
        "    String[] zones = {\"Sotano\", \"Atico\", \"Cocina\", \"Dormitorio\", \"Jardin\", \"Mausoleo\"};\n",
        "\n",
        "    List<Process> processes = new ArrayList<>();\n",
        "\n",
        "    for (String zone : zones) {\n",
        "      ProcessBuilder processBuilder =\n",
        "          new ProcessBuilder(\n",
        "              \"java\",\n",
        "              \"PrograConcu.SurveillanceCamera\",\n",
        "              String.valueOf(duration),\n",
        "              String.valueOf(interval),\n",
        "              zone,\n",
        "              String.valueOf(cameraId++));\n",
        "\n",
        "      processBuilder.inheritIO();\n",
        "      Process process = processBuilder.start();\n",
        "      processes.add(process);\n",
        "    }\n",
        "\n",
        "    for (Process process : processes) {\n",
        "      process.waitFor();\n",
        "    }\n",
        "\n",
        "    System.out.println(\"Ha finalizado la vigilancia...\");\n",
        "  }\n",
        "}"
      ],
      "metadata": {
        "id": "wNMYoeyffmDN",
        "colab": {
          "base_uri": "https://localhost:8080/"
        },
        "outputId": "53358204-1e6a-43d9-c827-06bab816c019"
      },
      "execution_count": 14,
      "outputs": [
        {
          "output_type": "stream",
          "name": "stdout",
          "text": [
            "Writing PrograConcu/Main.java\n"
          ]
        }
      ]
    },
    {
      "cell_type": "markdown",
      "source": [
        "Ahora, compilamos todos los .java del paquete y generamos el .class en PrograConcu/"
      ],
      "metadata": {
        "id": "sqzOr348l7JW"
      }
    },
    {
      "cell_type": "code",
      "source": [
        "!javac PrograConcu/*.java"
      ],
      "metadata": {
        "id": "VtNQCzrJlsnR"
      },
      "execution_count": 15,
      "outputs": []
    },
    {
      "cell_type": "markdown",
      "source": [
        "Una vez ya compilado, procedemos a ejecutar el programa, le pasamos como parametro 30 segundos de duracion de la camara, y 5 que reporte cada 5 segundos."
      ],
      "metadata": {
        "id": "ZTxzJvTsmG54"
      }
    },
    {
      "cell_type": "code",
      "source": [
        "\n",
        "!java PrograConcu.Main 30 5\n"
      ],
      "metadata": {
        "id": "E3g9IDHzlm_1",
        "colab": {
          "base_uri": "https://localhost:8080/"
        },
        "outputId": "2f4080c1-548a-42c3-cc00-3bf8743b14a0"
      },
      "execution_count": 16,
      "outputs": [
        {
          "output_type": "stream",
          "name": "stdout",
          "text": [
            "Camara: 2 Zona: Atico Evento: Anomalia termica\n",
            "Camara: 1 Zona: Sotano Evento: Sombra extrania\n",
            "Camara: 6 Zona: Mausoleo Evento: Sin actividad\n",
            "Camara: 4 Zona: Dormitorio Evento: Anomalia termica\n",
            "Camara: 5 Zona: Jardin Evento: Sin actividad\n",
            "Camara: 3 Zona: Cocina Evento: Sin actividad\n",
            "Camara: 2 Zona: Atico Evento: Sin actividad\n",
            "Camara: 1 Zona: Sotano Evento: Ruido detectado\n",
            "Camara: 6 Zona: Mausoleo Evento: Anomalia termica\n",
            "Camara: 4 Zona: Dormitorio Evento: Anomalia termica\n",
            "Camara: 5 Zona: Jardin Evento: Movimiento detectado\n",
            "Camara: 3 Zona: Cocina Evento: Anomalia termica\n",
            "Camara: 2 Zona: Atico Evento: Sombra extrania\n",
            "Camara: 1 Zona: Sotano Evento: Sombra extrania\n",
            "Camara: 6 Zona: Mausoleo Evento: Sin actividad\n",
            "Camara: 4 Zona: Dormitorio Evento: Sombra extrania\n",
            "Camara: 5 Zona: Jardin Evento: Sombra extrania\n",
            "Camara: 3 Zona: Cocina Evento: Anomalia termica\n",
            "Camara: 2 Zona: Atico Evento: Sin actividad\n",
            "Camara: 1 Zona: Sotano Evento: Sombra extrania\n",
            "Camara: 6 Zona: Mausoleo Evento: Movimiento detectado\n",
            "Camara: 4 Zona: Dormitorio Evento: Sombra extrania\n",
            "Camara: 5 Zona: Jardin Evento: Sin actividad\n",
            "Camara: 3 Zona: Cocina Evento: Ruido detectado\n",
            "Camara: 2 Zona: Atico Evento: Ruido detectado\n",
            "Camara: 1 Zona: Sotano Evento: Anomalia termica\n",
            "Camara: 6 Zona: Mausoleo Evento: Movimiento detectado\n",
            "Camara: 4 Zona: Dormitorio Evento: Sin actividad\n",
            "Camara: 5 Zona: Jardin Evento: Ruido detectado\n",
            "Camara: 3 Zona: Cocina Evento: Movimiento detectado\n",
            "Camara: 2 Zona: Atico Evento: Ruido detectado\n",
            "Camara: 1 Zona: Sotano Evento: Ruido detectado\n",
            "Camara: 6 Zona: Mausoleo Evento: Sin actividad\n",
            "Camara: 4 Zona: Dormitorio Evento: Anomalia termica\n",
            "Camara: 5 Zona: Jardin Evento: Sin actividad\n",
            "Camara: 3 Zona: Cocina Evento: Sin actividad\n",
            "La camara 2 en la zona Atico tuvo 4 eventos paranormales\n",
            "La camara 6 en la zona Mausoleo tuvo 3 eventos paranormales\n",
            "La camara 1 en la zona Sotano tuvo 6 eventos paranormales\n",
            "La camara 5 en la zona Jardin tuvo 3 eventos paranormalesLa camara 4 en la zona Dormitorio tuvo 5 eventos paranormales\n",
            "\n",
            "La camara 3 en la zona Cocina tuvo 4 eventos paranormales\n",
            "Ha finalizado la vigilancia...\n"
          ]
        }
      ]
    }
  ]
}