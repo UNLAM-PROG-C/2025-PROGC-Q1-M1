{
  "cells": [
    {
      "cell_type": "markdown",
      "metadata": {
        "id": "ZI-5nUO4ucsJ"
      },
      "source": [
        "#Trabajo Práctico N° 1 - Parte 2 - Hilos"
      ]
    },
    {
      "cell_type": "markdown",
      "metadata": {
        "id": "3-7XORCrujsM"
      },
      "source": [
        "Integrantes:\n",
        "\n",
        "- Emanuel Rodriguez\n",
        "- Ezequiel Catania\n",
        "- Julian Castellana\n",
        "- Miguel Ledesma\n",
        "- Santiago Galo"
      ]
    },
    {
      "cell_type": "markdown",
      "metadata": {
        "id": "Rt7o8SZ0W5uJ"
      },
      "source": [
        "# Ejercicio 1\n"
      ]
    },
    {
      "cell_type": "code",
      "execution_count": null,
      "metadata": {
        "id": "8fP5bqdSuo9A",
        "colab": {
          "base_uri": "https://localhost:8080/"
        },
        "outputId": "8cb25c57-103b-43fb-d090-973787f20412"
      },
      "outputs": [
        {
          "output_type": "stream",
          "name": "stdout",
          "text": [
            "Get:1 https://cloud.r-project.org/bin/linux/ubuntu jammy-cran40/ InRelease [3,632 B]\n",
            "Hit:2 https://developer.download.nvidia.com/compute/cuda/repos/ubuntu2204/x86_64  InRelease\n",
            "Hit:3 http://archive.ubuntu.com/ubuntu jammy InRelease\n",
            "Get:4 http://security.ubuntu.com/ubuntu jammy-security InRelease [129 kB]\n",
            "Get:5 https://r2u.stat.illinois.edu/ubuntu jammy InRelease [6,555 B]\n",
            "Get:6 http://archive.ubuntu.com/ubuntu jammy-updates InRelease [128 kB]\n",
            "Hit:7 https://ppa.launchpadcontent.net/deadsnakes/ppa/ubuntu jammy InRelease\n",
            "Hit:8 https://ppa.launchpadcontent.net/graphics-drivers/ppa/ubuntu jammy InRelease\n",
            "Hit:9 https://ppa.launchpadcontent.net/ubuntugis/ppa/ubuntu jammy InRelease\n",
            "Get:10 http://archive.ubuntu.com/ubuntu jammy-backports InRelease [127 kB]\n",
            "Get:11 https://r2u.stat.illinois.edu/ubuntu jammy/main all Packages [8,932 kB]\n",
            "Get:12 https://r2u.stat.illinois.edu/ubuntu jammy/main amd64 Packages [2,722 kB]\n",
            "Get:13 http://security.ubuntu.com/ubuntu jammy-security/main amd64 Packages [2,901 kB]\n",
            "Get:14 http://security.ubuntu.com/ubuntu jammy-security/universe amd64 Packages [1,245 kB]\n",
            "Get:15 http://archive.ubuntu.com/ubuntu jammy-updates/main amd64 Packages [3,212 kB]\n",
            "Get:16 http://archive.ubuntu.com/ubuntu jammy-updates/universe amd64 Packages [1,546 kB]\n",
            "Fetched 21.0 MB in 11s (1,964 kB/s)\n",
            "Reading package lists... Done\n",
            "W: Skipping acquire of configured file 'main/source/Sources' as repository 'https://r2u.stat.illinois.edu/ubuntu jammy InRelease' does not seem to provide it (sources.list entry misspelt?)\n"
          ]
        }
      ],
      "source": [
        "!apt-get update"
      ]
    },
    {
      "cell_type": "code",
      "source": [
        "!apt-get install g++"
      ],
      "metadata": {
        "colab": {
          "base_uri": "https://localhost:8080/"
        },
        "id": "cM9iw7Hbdesf",
        "outputId": "0288c91d-f730-4694-99e8-cb9c13e1dcd8"
      },
      "execution_count": null,
      "outputs": [
        {
          "output_type": "stream",
          "name": "stdout",
          "text": [
            "Reading package lists... Done\n",
            "Building dependency tree... Done\n",
            "Reading state information... Done\n",
            "g++ is already the newest version (4:11.2.0-1ubuntu1).\n",
            "g++ set to manually installed.\n",
            "0 upgraded, 0 newly installed, 0 to remove and 35 not upgraded.\n"
          ]
        }
      ]
    },
    {
      "cell_type": "code",
      "source": [
        "%%writefile threads.cpp\n",
        "\n",
        "#include <fstream>\n",
        "#include <iostream>\n",
        "#include <thread>\n",
        "#include <vector>\n",
        "#include <random>\n",
        "#include <chrono>\n",
        "\n",
        "using namespace std;\n",
        "\n",
        "const int DURATION_MIN_MS = 100;\n",
        "const int DURATION_MAX_MS = 200;\n",
        "const double SUCCESS_PROBABILITY = 0.5;\n",
        "const int PROBABILITY_RANGE = 100;\n",
        "const int CHAKRA_MIN = 5;\n",
        "const int CHAKRA_MAX = 10;\n",
        "\n",
        "struct FinalResult\n",
        "{\n",
        "    int clones;\n",
        "    double duration;\n",
        "    int totalLevel;\n",
        "};\n",
        "\n",
        "int trainClone(int id_clon)\n",
        "{\n",
        "    int chakra = CHAKRA_MIN + rand() % (CHAKRA_MAX - CHAKRA_MIN + 1);\n",
        "    int level = 0;\n",
        "    for (int i = 0; i < chakra; ++i)\n",
        "    {\n",
        "        int duration = DURATION_MIN_MS + rand() % (DURATION_MAX_MS - DURATION_MIN_MS + 1);\n",
        "        this_thread::sleep_for(chrono::milliseconds(duration));\n",
        "        if (rand() % PROBABILITY_RANGE < SUCCESS_PROBABILITY * PROBABILITY_RANGE)\n",
        "        {\n",
        "            level++;\n",
        "        }\n",
        "    }\n",
        "    return level;\n",
        "}\n",
        "\n",
        "void LaunchThreads(int numClones, vector<int>& levels)\n",
        "{\n",
        "    vector<thread> clones;\n",
        "    for (int i = 0; i < numClones; ++i)\n",
        "    {\n",
        "        clones.emplace_back([i, &levels]()\n",
        "        {\n",
        "            levels[i] = trainClone(i);\n",
        "        });\n",
        "    }\n",
        "\n",
        "    for (auto& clone : clones)\n",
        "    {\n",
        "        clone.join();\n",
        "    }\n",
        "}\n",
        "\n",
        "int CalculateTotalLevel(const vector<int>& levels)\n",
        "{\n",
        "    int totalLevel = 0;\n",
        "    for (int level : levels)\n",
        "    {\n",
        "        totalLevel += level;\n",
        "    }\n",
        "    return totalLevel;\n",
        "}\n",
        "\n",
        "void PrintResults(int numClones, const vector<int>& levels, int totalLevel, double duration)\n",
        "{\n",
        "    for (int i = 0; i < numClones; ++i)\n",
        "    {\n",
        "        cout << \"El clon \" << i + 1 << \" alcanzó el nivel \" << levels[i] << endl;\n",
        "    }\n",
        "    cout << \"Nivel total alcanzado: \" << totalLevel << endl;\n",
        "    cout << \"Tiempo total: \" << duration << \" segundos\" << endl;\n",
        "    cout << \"------------------------------------------\" << endl;\n",
        "}\n",
        "\n",
        "void SaveSummaryInCSV(const vector<FinalResult>& results, const string& fileName)\n",
        "{\n",
        "    ofstream file(fileName);\n",
        "    if (!file.is_open())\n",
        "    {\n",
        "        cerr << \"Error al abrir el archivo \" << fileName << endl;\n",
        "        return;\n",
        "    }\n",
        "\n",
        "    file << \"Clones,Duracion,NivelTotal\\n\";\n",
        "    for (const auto& res : results)\n",
        "    {\n",
        "        file << res.clones << \",\" << res.duration << \",\" << res.totalLevel << \"\\n\";\n",
        "    }\n",
        "\n",
        "    file.close();\n",
        "    cout << \"Comparativa guardada en \" << fileName << endl;\n",
        "}\n",
        "\n",
        "int main()\n",
        "{\n",
        "    vector<int> cloneCounts = {5, 10, 20, 40, 60, 70};\n",
        "    vector<FinalResult> summary;\n",
        "    for (int numClones : cloneCounts)\n",
        "    {\n",
        "        cout << \"\\n--- Ejecutando con \" << numClones << \" clones ---\" << endl;\n",
        "        vector<int> levels(numClones, 0);\n",
        "        auto startTime = chrono::high_resolution_clock::now();\n",
        "        LaunchThreads(numClones, levels);\n",
        "        auto endTime = chrono::high_resolution_clock::now();\n",
        "        chrono::duration<double> duration = endTime - startTime;\n",
        "        int totalLevel = CalculateTotalLevel(levels);\n",
        "\n",
        "        PrintResults(numClones, levels, totalLevel, duration.count());\n",
        "\n",
        "        summary.push_back({numClones, duration.count(), totalLevel});\n",
        "    }\n",
        "\n",
        "    SaveSummaryInCSV(summary, \"resumen.csv\");\n",
        "\n",
        "    return 0;\n",
        "}"
      ],
      "metadata": {
        "colab": {
          "base_uri": "https://localhost:8080/"
        },
        "id": "Ece_e29Ddfqg",
        "outputId": "7ac8cbbb-13a4-4617-d3de-f3253c565653"
      },
      "execution_count": null,
      "outputs": [
        {
          "output_type": "stream",
          "name": "stdout",
          "text": [
            "Writing threads.cpp\n"
          ]
        }
      ]
    },
    {
      "cell_type": "markdown",
      "source": [
        "Compilamos el programa:"
      ],
      "metadata": {
        "id": "KDxFihF0dugu"
      }
    },
    {
      "cell_type": "code",
      "source": [
        "!g++ threads.cpp -o threads"
      ],
      "metadata": {
        "id": "c672pCj-dtfu"
      },
      "execution_count": null,
      "outputs": []
    },
    {
      "cell_type": "markdown",
      "source": [
        "Ejecutamos el programa:"
      ],
      "metadata": {
        "id": "d2tmtV1NdwBc"
      }
    },
    {
      "cell_type": "code",
      "source": [
        "!./threads"
      ],
      "metadata": {
        "colab": {
          "base_uri": "https://localhost:8080/"
        },
        "id": "ZLRbrXn9dxDG",
        "outputId": "b4fddae1-ca6b-4829-afb8-fe055b099d03"
      },
      "execution_count": null,
      "outputs": [
        {
          "output_type": "stream",
          "name": "stdout",
          "text": [
            "\n",
            "--- Ejecutando con 5 clones ---\n",
            "El clon 1 alcanzó el nivel 4\n",
            "El clon 2 alcanzó el nivel 4\n",
            "El clon 3 alcanzó el nivel 1\n",
            "El clon 4 alcanzó el nivel 4\n",
            "El clon 5 alcanzó el nivel 3\n",
            "Nivel total alcanzado: 16\n",
            "Tiempo total: 1.55108 segundos\n",
            "------------------------------------------\n",
            "\n",
            "--- Ejecutando con 10 clones ---\n",
            "El clon 1 alcanzó el nivel 5\n",
            "El clon 2 alcanzó el nivel 3\n",
            "El clon 3 alcanzó el nivel 2\n",
            "El clon 4 alcanzó el nivel 2\n",
            "El clon 5 alcanzó el nivel 7\n",
            "El clon 6 alcanzó el nivel 2\n",
            "El clon 7 alcanzó el nivel 5\n",
            "El clon 8 alcanzó el nivel 5\n",
            "El clon 9 alcanzó el nivel 6\n",
            "El clon 10 alcanzó el nivel 5\n",
            "Nivel total alcanzado: 42\n",
            "Tiempo total: 1.58945 segundos\n",
            "------------------------------------------\n",
            "\n",
            "--- Ejecutando con 20 clones ---\n",
            "El clon 1 alcanzó el nivel 2\n",
            "El clon 2 alcanzó el nivel 2\n",
            "El clon 3 alcanzó el nivel 4\n",
            "El clon 4 alcanzó el nivel 3\n",
            "El clon 5 alcanzó el nivel 3\n",
            "El clon 6 alcanzó el nivel 1\n",
            "El clon 7 alcanzó el nivel 5\n",
            "El clon 8 alcanzó el nivel 6\n",
            "El clon 9 alcanzó el nivel 5\n",
            "El clon 10 alcanzó el nivel 4\n",
            "El clon 11 alcanzó el nivel 3\n",
            "El clon 12 alcanzó el nivel 2\n",
            "El clon 13 alcanzó el nivel 6\n",
            "El clon 14 alcanzó el nivel 6\n",
            "El clon 15 alcanzó el nivel 3\n",
            "El clon 16 alcanzó el nivel 6\n",
            "El clon 17 alcanzó el nivel 5\n",
            "El clon 18 alcanzó el nivel 2\n",
            "El clon 19 alcanzó el nivel 5\n",
            "El clon 20 alcanzó el nivel 5\n",
            "Nivel total alcanzado: 78\n",
            "Tiempo total: 1.58143 segundos\n",
            "------------------------------------------\n",
            "\n",
            "--- Ejecutando con 40 clones ---\n",
            "El clon 1 alcanzó el nivel 7\n",
            "El clon 2 alcanzó el nivel 1\n",
            "El clon 3 alcanzó el nivel 4\n",
            "El clon 4 alcanzó el nivel 4\n",
            "El clon 5 alcanzó el nivel 4\n",
            "El clon 6 alcanzó el nivel 3\n",
            "El clon 7 alcanzó el nivel 2\n",
            "El clon 8 alcanzó el nivel 2\n",
            "El clon 9 alcanzó el nivel 5\n",
            "El clon 10 alcanzó el nivel 3\n",
            "El clon 11 alcanzó el nivel 4\n",
            "El clon 12 alcanzó el nivel 3\n",
            "El clon 13 alcanzó el nivel 1\n",
            "El clon 14 alcanzó el nivel 3\n",
            "El clon 15 alcanzó el nivel 5\n",
            "El clon 16 alcanzó el nivel 3\n",
            "El clon 17 alcanzó el nivel 4\n",
            "El clon 18 alcanzó el nivel 4\n",
            "El clon 19 alcanzó el nivel 4\n",
            "El clon 20 alcanzó el nivel 7\n",
            "El clon 21 alcanzó el nivel 4\n",
            "El clon 22 alcanzó el nivel 8\n",
            "El clon 23 alcanzó el nivel 4\n",
            "El clon 24 alcanzó el nivel 3\n",
            "El clon 25 alcanzó el nivel 4\n",
            "El clon 26 alcanzó el nivel 7\n",
            "El clon 27 alcanzó el nivel 5\n",
            "El clon 28 alcanzó el nivel 0\n",
            "El clon 29 alcanzó el nivel 3\n",
            "El clon 30 alcanzó el nivel 5\n",
            "El clon 31 alcanzó el nivel 3\n",
            "El clon 32 alcanzó el nivel 3\n",
            "El clon 33 alcanzó el nivel 4\n",
            "El clon 34 alcanzó el nivel 1\n",
            "El clon 35 alcanzó el nivel 4\n",
            "El clon 36 alcanzó el nivel 4\n",
            "El clon 37 alcanzó el nivel 5\n",
            "El clon 38 alcanzó el nivel 4\n",
            "El clon 39 alcanzó el nivel 3\n",
            "El clon 40 alcanzó el nivel 1\n",
            "Nivel total alcanzado: 148\n",
            "Tiempo total: 1.60069 segundos\n",
            "------------------------------------------\n",
            "\n",
            "--- Ejecutando con 60 clones ---\n",
            "El clon 1 alcanzó el nivel 4\n",
            "El clon 2 alcanzó el nivel 1\n",
            "El clon 3 alcanzó el nivel 7\n",
            "El clon 4 alcanzó el nivel 4\n",
            "El clon 5 alcanzó el nivel 4\n",
            "El clon 6 alcanzó el nivel 5\n",
            "El clon 7 alcanzó el nivel 2\n",
            "El clon 8 alcanzó el nivel 5\n",
            "El clon 9 alcanzó el nivel 6\n",
            "El clon 10 alcanzó el nivel 4\n",
            "El clon 11 alcanzó el nivel 5\n",
            "El clon 12 alcanzó el nivel 1\n",
            "El clon 13 alcanzó el nivel 6\n",
            "El clon 14 alcanzó el nivel 4\n",
            "El clon 15 alcanzó el nivel 2\n",
            "El clon 16 alcanzó el nivel 4\n",
            "El clon 17 alcanzó el nivel 3\n",
            "El clon 18 alcanzó el nivel 5\n",
            "El clon 19 alcanzó el nivel 4\n",
            "El clon 20 alcanzó el nivel 3\n",
            "El clon 21 alcanzó el nivel 1\n",
            "El clon 22 alcanzó el nivel 3\n",
            "El clon 23 alcanzó el nivel 0\n",
            "El clon 24 alcanzó el nivel 5\n",
            "El clon 25 alcanzó el nivel 4\n",
            "El clon 26 alcanzó el nivel 4\n",
            "El clon 27 alcanzó el nivel 5\n",
            "El clon 28 alcanzó el nivel 6\n",
            "El clon 29 alcanzó el nivel 3\n",
            "El clon 30 alcanzó el nivel 5\n",
            "El clon 31 alcanzó el nivel 3\n",
            "El clon 32 alcanzó el nivel 3\n",
            "El clon 33 alcanzó el nivel 2\n",
            "El clon 34 alcanzó el nivel 4\n",
            "El clon 35 alcanzó el nivel 2\n",
            "El clon 36 alcanzó el nivel 3\n",
            "El clon 37 alcanzó el nivel 3\n",
            "El clon 38 alcanzó el nivel 6\n",
            "El clon 39 alcanzó el nivel 4\n",
            "El clon 40 alcanzó el nivel 3\n",
            "El clon 41 alcanzó el nivel 0\n",
            "El clon 42 alcanzó el nivel 5\n",
            "El clon 43 alcanzó el nivel 4\n",
            "El clon 44 alcanzó el nivel 4\n",
            "El clon 45 alcanzó el nivel 6\n",
            "El clon 46 alcanzó el nivel 3\n",
            "El clon 47 alcanzó el nivel 3\n",
            "El clon 48 alcanzó el nivel 4\n",
            "El clon 49 alcanzó el nivel 5\n",
            "El clon 50 alcanzó el nivel 6\n",
            "El clon 51 alcanzó el nivel 0\n",
            "El clon 52 alcanzó el nivel 3\n",
            "El clon 53 alcanzó el nivel 4\n",
            "El clon 54 alcanzó el nivel 3\n",
            "El clon 55 alcanzó el nivel 3\n",
            "El clon 56 alcanzó el nivel 4\n",
            "El clon 57 alcanzó el nivel 5\n",
            "El clon 58 alcanzó el nivel 4\n",
            "El clon 59 alcanzó el nivel 2\n",
            "El clon 60 alcanzó el nivel 4\n",
            "Nivel total alcanzado: 220\n",
            "Tiempo total: 1.62481 segundos\n",
            "------------------------------------------\n",
            "\n",
            "--- Ejecutando con 70 clones ---\n",
            "El clon 1 alcanzó el nivel 3\n",
            "El clon 2 alcanzó el nivel 4\n",
            "El clon 3 alcanzó el nivel 3\n",
            "El clon 4 alcanzó el nivel 6\n",
            "El clon 5 alcanzó el nivel 5\n",
            "El clon 6 alcanzó el nivel 3\n",
            "El clon 7 alcanzó el nivel 4\n",
            "El clon 8 alcanzó el nivel 5\n",
            "El clon 9 alcanzó el nivel 6\n",
            "El clon 10 alcanzó el nivel 4\n",
            "El clon 11 alcanzó el nivel 4\n",
            "El clon 12 alcanzó el nivel 4\n",
            "El clon 13 alcanzó el nivel 2\n",
            "El clon 14 alcanzó el nivel 5\n",
            "El clon 15 alcanzó el nivel 5\n",
            "El clon 16 alcanzó el nivel 2\n",
            "El clon 17 alcanzó el nivel 4\n",
            "El clon 18 alcanzó el nivel 3\n",
            "El clon 19 alcanzó el nivel 2\n",
            "El clon 20 alcanzó el nivel 5\n",
            "El clon 21 alcanzó el nivel 3\n",
            "El clon 22 alcanzó el nivel 3\n",
            "El clon 23 alcanzó el nivel 4\n",
            "El clon 24 alcanzó el nivel 4\n",
            "El clon 25 alcanzó el nivel 6\n",
            "El clon 26 alcanzó el nivel 3\n",
            "El clon 27 alcanzó el nivel 5\n",
            "El clon 28 alcanzó el nivel 3\n",
            "El clon 29 alcanzó el nivel 4\n",
            "El clon 30 alcanzó el nivel 3\n",
            "El clon 31 alcanzó el nivel 0\n",
            "El clon 32 alcanzó el nivel 2\n",
            "El clon 33 alcanzó el nivel 4\n",
            "El clon 34 alcanzó el nivel 4\n",
            "El clon 35 alcanzó el nivel 5\n",
            "El clon 36 alcanzó el nivel 1\n",
            "El clon 37 alcanzó el nivel 3\n",
            "El clon 38 alcanzó el nivel 4\n",
            "El clon 39 alcanzó el nivel 4\n",
            "El clon 40 alcanzó el nivel 3\n",
            "El clon 41 alcanzó el nivel 3\n",
            "El clon 42 alcanzó el nivel 2\n",
            "El clon 43 alcanzó el nivel 2\n",
            "El clon 44 alcanzó el nivel 3\n",
            "El clon 45 alcanzó el nivel 7\n",
            "El clon 46 alcanzó el nivel 3\n",
            "El clon 47 alcanzó el nivel 4\n",
            "El clon 48 alcanzó el nivel 4\n",
            "El clon 49 alcanzó el nivel 4\n",
            "El clon 50 alcanzó el nivel 2\n",
            "El clon 51 alcanzó el nivel 4\n",
            "El clon 52 alcanzó el nivel 4\n",
            "El clon 53 alcanzó el nivel 2\n",
            "El clon 54 alcanzó el nivel 2\n",
            "El clon 55 alcanzó el nivel 3\n",
            "El clon 56 alcanzó el nivel 5\n",
            "El clon 57 alcanzó el nivel 4\n",
            "El clon 58 alcanzó el nivel 3\n",
            "El clon 59 alcanzó el nivel 3\n",
            "El clon 60 alcanzó el nivel 2\n",
            "El clon 61 alcanzó el nivel 5\n",
            "El clon 62 alcanzó el nivel 3\n",
            "El clon 63 alcanzó el nivel 2\n",
            "El clon 64 alcanzó el nivel 3\n",
            "El clon 65 alcanzó el nivel 4\n",
            "El clon 66 alcanzó el nivel 2\n",
            "El clon 67 alcanzó el nivel 4\n",
            "El clon 68 alcanzó el nivel 4\n",
            "El clon 69 alcanzó el nivel 3\n",
            "El clon 70 alcanzó el nivel 3\n",
            "Nivel total alcanzado: 246\n",
            "Tiempo total: 1.67478 segundos\n",
            "------------------------------------------\n",
            "Comparativa guardada en resumen.csv\n"
          ]
        }
      ]
    },
    {
      "cell_type": "markdown",
      "source": [
        "Listamos a ver si la comparativa está guardada para luego hacer el gráfico"
      ],
      "metadata": {
        "id": "y5KyNKKeidMM"
      }
    },
    {
      "cell_type": "code",
      "source": [
        "!ls"
      ],
      "metadata": {
        "colab": {
          "base_uri": "https://localhost:8080/"
        },
        "id": "3gtI3kN3igUA",
        "outputId": "813d0516-4610-4cbe-f692-66a6a173dddd"
      },
      "execution_count": null,
      "outputs": [
        {
          "output_type": "stream",
          "name": "stdout",
          "text": [
            "ProgaConcu  resumen.csv  sample_data  threads  threads.cpp\n"
          ]
        }
      ]
    },
    {
      "cell_type": "markdown",
      "source": [
        "Vemos el contenido:"
      ],
      "metadata": {
        "id": "RVQTV7n7ijwA"
      }
    },
    {
      "cell_type": "code",
      "source": [
        "!cat resumen.csv"
      ],
      "metadata": {
        "colab": {
          "base_uri": "https://localhost:8080/"
        },
        "id": "PfABDE-ZiiEA",
        "outputId": "22645bf1-3450-4a64-cece-e706c1376f2a"
      },
      "execution_count": null,
      "outputs": [
        {
          "output_type": "stream",
          "name": "stdout",
          "text": [
            "Clones,Duracion,NivelTotal\n",
            "5,1.55108,16\n",
            "10,1.58945,42\n",
            "20,1.58143,78\n",
            "40,1.60069,148\n",
            "60,1.62481,220\n",
            "70,1.67478,246\n"
          ]
        }
      ]
    },
    {
      "cell_type": "markdown",
      "source": [
        "Hacemos el grafico utilizando PANDAS en python:"
      ],
      "metadata": {
        "id": "iDW28cYLiqeo"
      }
    },
    {
      "cell_type": "code",
      "source": [
        "import pandas as pd\n",
        "import matplotlib.pyplot as plt\n",
        "\n",
        "df = pd.read_csv('resumen.csv')\n",
        "\n",
        "print(df)\n",
        "\n",
        "fig, ax1 = plt.subplots(figsize=(10, 6))\n",
        "\n",
        "ax1.bar(df['Clones'] - 2, df['Duracion'], width=3, color='b', label='Duración (s)')\n",
        "ax1.set_xlabel('Cantidad de Clones')\n",
        "ax1.set_ylabel('Duración (segundos)', color='b')\n",
        "ax1.tick_params(axis='y', labelcolor='b')\n",
        "\n",
        "ax2 = ax1.twinx()\n",
        "ax2.plot(df['Clones'], df['NivelTotal'], color='r', marker='o', label='Nivel Total', linestyle='-', linewidth=2)\n",
        "ax2.set_ylabel('Nivel Total', color='r')\n",
        "ax2.tick_params(axis='y', labelcolor='r')\n",
        "\n",
        "plt.title('Comparativa de Clones: Duración vs Nivel Total')\n",
        "fig.tight_layout()\n",
        "\n",
        "plt.show()\n"
      ],
      "metadata": {
        "colab": {
          "base_uri": "https://localhost:8080/",
          "height": 728
        },
        "id": "Z2RHHABlitBt",
        "outputId": "32bbcf02-b517-4385-915b-7fe693ed0d38"
      },
      "execution_count": null,
      "outputs": [
        {
          "output_type": "stream",
          "name": "stdout",
          "text": [
            "   Clones  Duracion  NivelTotal\n",
            "0       5   1.55108          16\n",
            "1      10   1.58945          42\n",
            "2      20   1.58143          78\n",
            "3      40   1.60069         148\n",
            "4      60   1.62481         220\n",
            "5      70   1.67478         246\n"
          ]
        },
        {
          "output_type": "display_data",
          "data": {
            "text/plain": [
              "<Figure size 1000x600 with 2 Axes>"
            ],
            "image/png": "[encoded data removed]"
          },
          "metadata": {}
        }
      ]
    },
    {
      "cell_type": "markdown",
      "source": [
        "## **Conclusión:**\n",
        "\n",
        "Como se puede observar, la duración es casi la misma en todos los casos, pero el nivel obtenido con una mayor cantidad de clones es mayor."
      ],
      "metadata": {
        "id": "qq7Y7l81jF6t"
      }
    },
    {
      "cell_type": "markdown",
      "metadata": {
        "id": "4glz-DGvW-GQ"
      },
      "source": [
        "# Ejercicio 2\n"
      ]
    },
    {
      "cell_type": "markdown",
      "metadata": {
        "id": "kyjxAugVLAx8"
      },
      "source": [
        "Primero descargamos las dependencias necesarias para compilar Java"
      ]
    },
    {
      "cell_type": "code",
      "execution_count": null,
      "metadata": {
        "colab": {
          "base_uri": "https://localhost:8080/"
        },
        "id": "yQAPAXEOJNu6",
        "outputId": "e72599f9-5bbe-4fc0-8a3e-419f4fed931c"
      },
      "outputs": [
        {
          "output_type": "stream",
          "name": "stdout",
          "text": [
            "\u001b[33m\r0% [Working]\u001b[0m\r            \rGet:1 http://security.ubuntu.com/ubuntu jammy-security InRelease [129 kB]\n",
            "\u001b[33m\r0% [Connecting to archive.ubuntu.com (185.125.190.82)] [1 InRelease 1,140 B/129\u001b[0m\r                                                                               \rGet:2 https://developer.download.nvidia.com/compute/cuda/repos/ubuntu2204/x86_64  InRelease [1,581 B]\n",
            "Get:3 https://cloud.r-project.org/bin/linux/ubuntu jammy-cran40/ InRelease [3,632 B]\n",
            "Get:4 https://r2u.stat.illinois.edu/ubuntu jammy InRelease [6,555 B]\n",
            "Hit:5 http://archive.ubuntu.com/ubuntu jammy InRelease\n",
            "Get:6 https://developer.download.nvidia.com/compute/cuda/repos/ubuntu2204/x86_64  Packages [1,702 kB]\n",
            "Get:7 http://archive.ubuntu.com/ubuntu jammy-updates InRelease [128 kB]\n",
            "Get:8 http://security.ubuntu.com/ubuntu jammy-security/universe amd64 Packages [1,245 kB]\n",
            "Get:9 https://ppa.launchpadcontent.net/deadsnakes/ppa/ubuntu jammy InRelease [18.1 kB]\n",
            "Get:10 http://archive.ubuntu.com/ubuntu jammy-backports InRelease [127 kB]\n",
            "Hit:11 https://ppa.launchpadcontent.net/graphics-drivers/ppa/ubuntu jammy InRelease\n",
            "Get:12 http://security.ubuntu.com/ubuntu jammy-security/main amd64 Packages [2,948 kB]\n",
            "Get:13 https://r2u.stat.illinois.edu/ubuntu jammy/main amd64 Packages [2,728 kB]\n",
            "Hit:14 https://ppa.launchpadcontent.net/ubuntugis/ppa/ubuntu jammy InRelease\n",
            "Get:15 http://security.ubuntu.com/ubuntu jammy-security/restricted amd64 Packages [4,395 kB]\n",
            "Get:16 https://r2u.stat.illinois.edu/ubuntu jammy/main all Packages [8,968 kB]\n",
            "Get:17 http://archive.ubuntu.com/ubuntu jammy-updates/restricted amd64 Packages [4,549 kB]\n",
            "Get:18 https://ppa.launchpadcontent.net/deadsnakes/ppa/ubuntu jammy/main amd64 Packages [34.3 kB]\n",
            "Get:19 http://archive.ubuntu.com/ubuntu jammy-updates/main amd64 Packages [3,258 kB]\n",
            "Get:20 http://archive.ubuntu.com/ubuntu jammy-updates/universe amd64 Packages [1,552 kB]\n",
            "Fetched 31.8 MB in 4s (8,925 kB/s)\n",
            "Reading package lists... Done\n",
            "Building dependency tree... Done\n",
            "Reading state information... Done\n",
            "46 packages can be upgraded. Run 'apt list --upgradable' to see them.\n",
            "\u001b[1;33mW: \u001b[0mSkipping acquire of configured file 'main/source/Sources' as repository 'https://r2u.stat.illinois.edu/ubuntu jammy InRelease' does not seem to provide it (sources.list entry misspelt?)\u001b[0m\n",
            "Reading package lists... Done\n",
            "Building dependency tree... Done\n",
            "Reading state information... Done\n",
            "The following additional packages will be installed:\n",
            "  default-jdk-headless default-jre default-jre-headless fonts-dejavu-core\n",
            "  fonts-dejavu-extra libatk-wrapper-java libatk-wrapper-java-jni libxt-dev\n",
            "  libxtst6 libxxf86dga1 openjdk-11-jdk openjdk-11-jre x11-utils\n",
            "Suggested packages:\n",
            "  libxt-doc openjdk-11-demo openjdk-11-source visualvm mesa-utils\n",
            "The following NEW packages will be installed:\n",
            "  default-jdk default-jdk-headless default-jre default-jre-headless\n",
            "  fonts-dejavu-core fonts-dejavu-extra libatk-wrapper-java\n",
            "  libatk-wrapper-java-jni libxt-dev libxtst6 libxxf86dga1 openjdk-11-jdk\n",
            "  openjdk-11-jre x11-utils\n",
            "0 upgraded, 14 newly installed, 0 to remove and 46 not upgraded.\n",
            "Need to get 6,926 kB of archives.\n",
            "After this operation, 16.9 MB of additional disk space will be used.\n",
            "Get:1 http://archive.ubuntu.com/ubuntu jammy/main amd64 default-jre-headless amd64 2:1.11-72build2 [3,042 B]\n",
            "Get:2 http://archive.ubuntu.com/ubuntu jammy/main amd64 libxtst6 amd64 2:1.2.3-1build4 [13.4 kB]\n",
            "Get:3 http://archive.ubuntu.com/ubuntu jammy-updates/main amd64 openjdk-11-jre amd64 11.0.27+6~us1-0ubuntu1~22.04 [214 kB]\n",
            "Get:4 http://archive.ubuntu.com/ubuntu jammy/main amd64 default-jre amd64 2:1.11-72build2 [896 B]\n",
            "Get:5 http://archive.ubuntu.com/ubuntu jammy/main amd64 default-jdk-headless amd64 2:1.11-72build2 [942 B]\n",
            "Get:6 http://archive.ubuntu.com/ubuntu jammy-updates/main amd64 openjdk-11-jdk amd64 11.0.27+6~us1-0ubuntu1~22.04 [2,895 kB]\n",
            "Get:7 http://archive.ubuntu.com/ubuntu jammy/main amd64 default-jdk amd64 2:1.11-72build2 [908 B]\n",
            "Get:8 http://archive.ubuntu.com/ubuntu jammy/main amd64 fonts-dejavu-core all 2.37-2build1 [1,041 kB]\n",
            "Get:9 http://archive.ubuntu.com/ubuntu jammy/main amd64 fonts-dejavu-extra all 2.37-2build1 [2,041 kB]\n",
            "Get:10 http://archive.ubuntu.com/ubuntu jammy/main amd64 libxxf86dga1 amd64 2:1.1.5-0ubuntu3 [12.6 kB]\n",
            "Get:11 http://archive.ubuntu.com/ubuntu jammy/main amd64 x11-utils amd64 7.7+5build2 [206 kB]\n",
            "Get:12 http://archive.ubuntu.com/ubuntu jammy/main amd64 libatk-wrapper-java all 0.38.0-5build1 [53.1 kB]\n",
            "Get:13 http://archive.ubuntu.com/ubuntu jammy/main amd64 libatk-wrapper-java-jni amd64 0.38.0-5build1 [49.0 kB]\n",
            "Get:14 http://archive.ubuntu.com/ubuntu jammy/main amd64 libxt-dev amd64 1:1.2.1-1 [396 kB]\n",
            "Fetched 6,926 kB in 1s (5,325 kB/s)\n",
            "Selecting previously unselected package default-jre-headless.\n",
            "(Reading database ... 126109 files and directories currently installed.)\n",
            "Preparing to unpack .../00-default-jre-headless_2%3a1.11-72build2_amd64.deb ...\n",
            "Unpacking default-jre-headless (2:1.11-72build2) ...\n",
            "Selecting previously unselected package libxtst6:amd64.\n",
            "Preparing to unpack .../01-libxtst6_2%3a1.2.3-1build4_amd64.deb ...\n",
            "Unpacking libxtst6:amd64 (2:1.2.3-1build4) ...\n",
            "Selecting previously unselected package openjdk-11-jre:amd64.\n",
            "Preparing to unpack .../02-openjdk-11-jre_11.0.27+6~us1-0ubuntu1~22.04_amd64.deb ...\n",
            "Unpacking openjdk-11-jre:amd64 (11.0.27+6~us1-0ubuntu1~22.04) ...\n",
            "Selecting previously unselected package default-jre.\n",
            "Preparing to unpack .../03-default-jre_2%3a1.11-72build2_amd64.deb ...\n",
            "Unpacking default-jre (2:1.11-72build2) ...\n",
            "Selecting previously unselected package default-jdk-headless.\n",
            "Preparing to unpack .../04-default-jdk-headless_2%3a1.11-72build2_amd64.deb ...\n",
            "Unpacking default-jdk-headless (2:1.11-72build2) ...\n",
            "Selecting previously unselected package openjdk-11-jdk:amd64.\n",
            "Preparing to unpack .../05-openjdk-11-jdk_11.0.27+6~us1-0ubuntu1~22.04_amd64.deb ...\n",
            "Unpacking openjdk-11-jdk:amd64 (11.0.27+6~us1-0ubuntu1~22.04) ...\n",
            "Selecting previously unselected package default-jdk.\n",
            "Preparing to unpack .../06-default-jdk_2%3a1.11-72build2_amd64.deb ...\n",
            "Unpacking default-jdk (2:1.11-72build2) ...\n",
            "Selecting previously unselected package fonts-dejavu-core.\n",
            "Preparing to unpack .../07-fonts-dejavu-core_2.37-2build1_all.deb ...\n",
            "Unpacking fonts-dejavu-core (2.37-2build1) ...\n",
            "Selecting previously unselected package fonts-dejavu-extra.\n",
            "Preparing to unpack .../08-fonts-dejavu-extra_2.37-2build1_all.deb ...\n",
            "Unpacking fonts-dejavu-extra (2.37-2build1) ...\n",
            "Selecting previously unselected package libxxf86dga1:amd64.\n",
            "Preparing to unpack .../09-libxxf86dga1_2%3a1.1.5-0ubuntu3_amd64.deb ...\n",
            "Unpacking libxxf86dga1:amd64 (2:1.1.5-0ubuntu3) ...\n",
            "Selecting previously unselected package x11-utils.\n",
            "Preparing to unpack .../10-x11-utils_7.7+5build2_amd64.deb ...\n",
            "Unpacking x11-utils (7.7+5build2) ...\n",
            "Selecting previously unselected package libatk-wrapper-java.\n",
            "Preparing to unpack .../11-libatk-wrapper-java_0.38.0-5build1_all.deb ...\n",
            "Unpacking libatk-wrapper-java (0.38.0-5build1) ...\n",
            "Selecting previously unselected package libatk-wrapper-java-jni:amd64.\n",
            "Preparing to unpack .../12-libatk-wrapper-java-jni_0.38.0-5build1_amd64.deb ...\n",
            "Unpacking libatk-wrapper-java-jni:amd64 (0.38.0-5build1) ...\n",
            "Selecting previously unselected package libxt-dev:amd64.\n",
            "Preparing to unpack .../13-libxt-dev_1%3a1.2.1-1_amd64.deb ...\n",
            "Unpacking libxt-dev:amd64 (1:1.2.1-1) ...\n",
            "Setting up default-jre-headless (2:1.11-72build2) ...\n",
            "Setting up libxtst6:amd64 (2:1.2.3-1build4) ...\n",
            "Setting up libxxf86dga1:amd64 (2:1.1.5-0ubuntu3) ...\n",
            "Setting up openjdk-11-jre:amd64 (11.0.27+6~us1-0ubuntu1~22.04) ...\n",
            "Setting up default-jre (2:1.11-72build2) ...\n",
            "Setting up default-jdk-headless (2:1.11-72build2) ...\n",
            "Setting up libxt-dev:amd64 (1:1.2.1-1) ...\n",
            "Setting up fonts-dejavu-core (2.37-2build1) ...\n",
            "Setting up fonts-dejavu-extra (2.37-2build1) ...\n",
            "Setting up x11-utils (7.7+5build2) ...\n",
            "Setting up openjdk-11-jdk:amd64 (11.0.27+6~us1-0ubuntu1~22.04) ...\n",
            "update-alternatives: using /usr/lib/jvm/java-11-openjdk-amd64/bin/jconsole to provide /usr/bin/jconsole (jconsole) in auto mode\n",
            "Setting up libatk-wrapper-java (0.38.0-5build1) ...\n",
            "Setting up default-jdk (2:1.11-72build2) ...\n",
            "Setting up libatk-wrapper-java-jni:amd64 (0.38.0-5build1) ...\n",
            "Processing triggers for fontconfig (2.13.1-4.2ubuntu5) ...\n",
            "Processing triggers for hicolor-icon-theme (0.17-2) ...\n",
            "Processing triggers for libc-bin (2.35-0ubuntu3.8) ...\n",
            "/sbin/ldconfig.real: /usr/local/lib/libumf.so.0 is not a symbolic link\n",
            "\n",
            "/sbin/ldconfig.real: /usr/local/lib/libtbbmalloc.so.2 is not a symbolic link\n",
            "\n",
            "/sbin/ldconfig.real: /usr/local/lib/libtbbbind.so.3 is not a symbolic link\n",
            "\n",
            "/sbin/ldconfig.real: /usr/local/lib/libtcm_debug.so.1 is not a symbolic link\n",
            "\n",
            "/sbin/ldconfig.real: /usr/local/lib/libhwloc.so.15 is not a symbolic link\n",
            "\n",
            "/sbin/ldconfig.real: /usr/local/lib/libtcm.so.1 is not a symbolic link\n",
            "\n",
            "/sbin/ldconfig.real: /usr/local/lib/libur_adapter_level_zero.so.0 is not a symbolic link\n",
            "\n",
            "/sbin/ldconfig.real: /usr/local/lib/libtbbbind_2_0.so.3 is not a symbolic link\n",
            "\n",
            "/sbin/ldconfig.real: /usr/local/lib/libur_adapter_opencl.so.0 is not a symbolic link\n",
            "\n",
            "/sbin/ldconfig.real: /usr/local/lib/libtbbbind_2_5.so.3 is not a symbolic link\n",
            "\n",
            "/sbin/ldconfig.real: /usr/local/lib/libur_loader.so.0 is not a symbolic link\n",
            "\n",
            "/sbin/ldconfig.real: /usr/local/lib/libtbb.so.12 is not a symbolic link\n",
            "\n",
            "/sbin/ldconfig.real: /usr/local/lib/libtbbmalloc_proxy.so.2 is not a symbolic link\n",
            "\n",
            "Processing triggers for man-db (2.10.2-1) ...\n",
            "Processing triggers for mailcap (3.70+nmu1ubuntu1) ...\n"
          ]
        }
      ],
      "source": [
        "!apt update\n",
        "!apt install default-jdk -y"
      ]
    },
    {
      "cell_type": "markdown",
      "metadata": {
        "id": "VG1Q4S-8LtJK"
      },
      "source": [
        "\n",
        "\n",
        "> Ahora creamos el directorio donde vamos a crear nuestro proyecto de Java\n",
        "\n"
      ]
    },
    {
      "cell_type": "code",
      "execution_count": null,
      "metadata": {
        "id": "SLiC_6lxJThR"
      },
      "outputs": [],
      "source": [
        "!mkdir -p ProgaConcu"
      ]
    },
    {
      "cell_type": "markdown",
      "metadata": {
        "id": "hIzf0KfQXEbV"
      },
      "source": [
        "En la clase League, agruparemos lo que seria la funcion para calcular fixture, y lo usaremos como Main, procesando el torneo de forma secuencial y concurrente (usando pool de  hilos), y mostrando la comparacion de tiempos al final de la ejecucion.\n",
        "\n",
        "Diseño del fixture: se utilizo un algoritmo de Round Robin y se implemento una logica para alternar partidos de visitante y de local de cada equipo."
      ]
    },
    {
      "cell_type": "code",
      "execution_count": null,
      "metadata": {
        "colab": {
          "base_uri": "https://localhost:8080/"
        },
        "id": "7yQq9-FEaL0M",
        "outputId": "ea2bfeeb-afd3-43b6-89fb-5a23a7a86c8a"
      },
      "outputs": [
        {
          "output_type": "stream",
          "name": "stdout",
          "text": [
            "Writing ProgaConcu/League.java\n"
          ]
        }
      ],
      "source": [
        "%%writefile ProgaConcu/League.java\n",
        "\n",
        "// File: ProgaConcu/League.java\n",
        "package ProgaConcu;\n",
        "\n",
        "import java.util.ArrayList;\n",
        "import java.util.List;\n",
        "import java.util.concurrent.CountDownLatch;\n",
        "import java.util.concurrent.ExecutorService;\n",
        "import java.util.concurrent.Executors;\n",
        "\n",
        "public class League\n",
        "{\n",
        "\n",
        "  private static final int NUMBER_OF_TEAMS = 20;\n",
        "  private static final int FIXED_TEAM_INDEX = NUMBER_OF_TEAMS - 1;\n",
        "\n",
        "  public static void main(String[] args)\n",
        "  {\n",
        "    String[] teamNames =\n",
        "    {\n",
        "        \"Boca\", \"River\", \"San Lorenzo\", \"Ferro\", \"Huracan\", \"Velez\", \"Estudiantes\", \"Belgrano\",\n",
        "        \"Lanus\", \"Talleres\", \"Dep Español\", \"San Martin(T)\", \"Mandiyu\", \"Rosario Central\",\n",
        "        \"Independiente\", \"Racing Club\", \"Gimnasia LP\", \"Platense\", \"Argentinos\", \"Newells\"\n",
        "    };\n",
        "\n",
        "    sequentialProcessing(teamNames);\n",
        "    concurrentProcessing(teamNames);\n",
        "  }\n",
        "\n",
        "  public static Match[][] calculateFixture(List<Team> teams)\n",
        "  {\n",
        "    int numberOfTeams = teams.size();\n",
        "    int numberOfRounds = numberOfTeams - 1;\n",
        "    int matchesPerRound = numberOfTeams / 2;\n",
        "\n",
        "    Match[][] fixture = new Match[numberOfRounds][matchesPerRound];\n",
        "\n",
        "    for (int round = 0; round < numberOfRounds; round++)\n",
        "    {\n",
        "      for (int matchIndex = 0; matchIndex < matchesPerRound; matchIndex++)\n",
        "      {\n",
        "        int homeIndex = (round + matchIndex) % (numberOfTeams - 1);\n",
        "        int awayIndex = (numberOfTeams - 1 - matchIndex + round) % (numberOfTeams - 1);\n",
        "\n",
        "        if (matchIndex == 0)\n",
        "        {\n",
        "          awayIndex = FIXED_TEAM_INDEX;\n",
        "        }\n",
        "\n",
        "        Team home = teams.get(homeIndex);\n",
        "        Team away = teams.get(awayIndex);\n",
        "\n",
        "        // alternamos partidos visitante y de local\n",
        "        if (round % 2 == 0 && matchIndex == 0)\n",
        "        {\n",
        "          fixture[round][matchIndex] = new Match(away, home);\n",
        "        }\n",
        "        else\n",
        "        {\n",
        "          fixture[round][matchIndex] = new Match(home, away);\n",
        "        }\n",
        "      }\n",
        "    }\n",
        "\n",
        "    return fixture;\n",
        "  }\n",
        "\n",
        "  public static void sequentialProcessing(String[] names)\n",
        "  {\n",
        "    List<Team> teams = new ArrayList<>();\n",
        "\n",
        "    for (String name : names)\n",
        "    {\n",
        "      teams.add(new Team(name));\n",
        "    }\n",
        "\n",
        "    Match[][] fixture = calculateFixture(teams);\n",
        "\n",
        "    long startTime = System.currentTimeMillis();\n",
        "\n",
        "    for (Match[] round : fixture)\n",
        "    {\n",
        "      for (Match match : round)\n",
        "      {\n",
        "        match.simulate();\n",
        "      }\n",
        "      Standings.sort(teams);\n",
        "    }\n",
        "\n",
        "    Standings.display(teams);\n",
        "\n",
        "    long endTime = System.currentTimeMillis();\n",
        "    System.out.println(\"Sequential execution time: \" + (endTime - startTime) / 1000 + \" seconds\");\n",
        "  }\n",
        "\n",
        "  public static void concurrentProcessing(String[] names)\n",
        "  {\n",
        "    List<Team> teams = new ArrayList<>();\n",
        "\n",
        "    for (String name : names)\n",
        "    {\n",
        "      teams.add(new Team(name));\n",
        "    }\n",
        "\n",
        "    Match[][] fixture = calculateFixture(teams);\n",
        "\n",
        "    long startTime = System.currentTimeMillis();\n",
        "\n",
        "    int threadPoolSize = fixture[0].length;\n",
        "    ExecutorService executor = Executors.newFixedThreadPool(threadPoolSize);\n",
        "\n",
        "    for (Match[] round : fixture)\n",
        "    {\n",
        "      CountDownLatch latch = new CountDownLatch(round.length);\n",
        "\n",
        "      for (Match match : round)\n",
        "      {\n",
        "        executor.execute(() ->\n",
        "        {\n",
        "          match.simulate();\n",
        "          latch.countDown();\n",
        "        });\n",
        "      }\n",
        "\n",
        "      try\n",
        "      {\n",
        "        latch.await();\n",
        "      }\n",
        "      catch (InterruptedException e)\n",
        "      {\n",
        "        Thread.currentThread().interrupt();\n",
        "        System.err.println(\"Interrupted while waiting for match simulations.\");\n",
        "      }\n",
        "\n",
        "      Standings.sort(teams);\n",
        "    }\n",
        "\n",
        "    executor.shutdown();\n",
        "\n",
        "    Standings.display(teams);\n",
        "\n",
        "    long endTime = System.currentTimeMillis();\n",
        "    System.out.println(\"Concurrent execution time: \" + (endTime - startTime) / 1000 + \" seconds\");\n",
        "  }\n",
        "}\n",
        "\n"
      ]
    },
    {
      "cell_type": "markdown",
      "metadata": {
        "id": "MicyuIVUYGt3"
      },
      "source": [
        "En la clase Standings, implementamos las funcionalidades para manipular la lista de equipos:\n",
        "\n",
        "sort: en esta función ordenamos la lista por Puntos, Diferencia de Gol y Goles a favor.\n",
        "\n",
        "display: en esta función mostramos la lista con un formato prolijo."
      ]
    },
    {
      "cell_type": "code",
      "execution_count": null,
      "metadata": {
        "colab": {
          "base_uri": "https://localhost:8080/"
        },
        "id": "-K6FiRumfeZF",
        "outputId": "7dbcd5dc-676d-441a-d857-70d7b6dfbe2e"
      },
      "outputs": [
        {
          "output_type": "stream",
          "name": "stdout",
          "text": [
            "Writing ProgaConcu/Standings.java\n"
          ]
        }
      ],
      "source": [
        "%%writefile ProgaConcu/Standings.java\n",
        "\n",
        "package ProgaConcu;\n",
        "\n",
        "import java.util.Collections;\n",
        "import java.util.Comparator;\n",
        "import java.util.List;\n",
        "\n",
        "public class Standings\n",
        "{\n",
        "    public static void sort(List<Team> teams)\n",
        "    {\n",
        "        Collections.sort(teams, new Comparator<Team>()\n",
        "        {\n",
        "            @Override\n",
        "            public int compare(Team t1, Team t2)\n",
        "            {\n",
        "                // primer criterio: puntos\n",
        "                if (t2.getPoints() != t1.getPoints())\n",
        "                {\n",
        "                    return Integer.compare(t2.getPoints(), t1.getPoints());\n",
        "                }\n",
        "                // segundo criterio: diferencia de goles\n",
        "                if (t2.getGoalDifference() != t1.getGoalDifference())\n",
        "                {\n",
        "                    return Integer.compare(t2.getGoalDifference(), t1.getGoalDifference());\n",
        "                }\n",
        "                // tercer criterio: goles a favor\n",
        "                return Integer.compare(t2.getGoalsFor(), t1.getGoalsFor());\n",
        "            }\n",
        "        });\n",
        "    }\n",
        "\n",
        "    public static void display(List<Team> teams)\n",
        "    {\n",
        "        System.out.printf(\"%-20s %3s %3s %3s %3s %3s %3s %3s %4s%n\",\n",
        "            \"Team\", \"PTS\", \"MP\", \"W\", \"D\", \"L\", \"GF\", \"GA\", \"GD\");\n",
        "        for (Team t : teams)\n",
        "        {\n",
        "            System.out.printf(\"%-20s %3d %3d %3d %3d %3d %3d %3d %4d%n\",\n",
        "                t.getName(), t.getPoints(), t.getMatchesPlayed(), t.getWins(),\n",
        "                t.getDraws(), t.getLosses(), t.getGoalsFor(),\n",
        "                t.getGoalsAgainst(), t.getGoalDifference());\n",
        "        }\n",
        "    }\n",
        "}\n",
        "\n",
        "\n"
      ]
    },
    {
      "cell_type": "markdown",
      "metadata": {
        "id": "9NclQmoUavy5"
      },
      "source": [
        "La clase Match, nos sirve para guardar los encuentros por fecha, y además para simularlos.\n",
        "\n",
        "simulate: generamos aleatoriamente entre 0 y 5 goles por equipo, en base a estos, definimos ganador, perdedor o empate, y actualizamos las estadísticas de ambos equipos. También obligamos a que dure entre 100 y 150 ms como indica la consigna."
      ]
    },
    {
      "cell_type": "code",
      "execution_count": null,
      "metadata": {
        "colab": {
          "base_uri": "https://localhost:8080/"
        },
        "id": "5NXbAyq_fi12",
        "outputId": "c4c5aea2-d34b-439f-dde9-c8dfac1bac49"
      },
      "outputs": [
        {
          "output_type": "stream",
          "name": "stdout",
          "text": [
            "Writing ProgaConcu/Match.java\n"
          ]
        }
      ],
      "source": [
        "%%writefile ProgaConcu/Match.java\n",
        "\n",
        "package ProgaConcu;\n",
        "\n",
        "import java.util.concurrent.ThreadLocalRandom;\n",
        "\n",
        "public class Match\n",
        "{\n",
        "    private Team homeTeam;\n",
        "    private Team awayTeam;\n",
        "\n",
        "    private static final int MAX_GOALS = 5;\n",
        "    private static final int MIN_SLEEP_MS = 100;\n",
        "    private static final int MAX_SLEEP_MS = 150;\n",
        "    private static final int WIN_POINTS = 3;\n",
        "    private static final int DRAW_POINTS = 1;\n",
        "\n",
        "    public Match(Team homeTeam, Team awayTeam)\n",
        "    {\n",
        "        this.homeTeam = homeTeam;\n",
        "        this.awayTeam = awayTeam;\n",
        "    }\n",
        "\n",
        "    public Team getHomeTeam()\n",
        "    {\n",
        "        return homeTeam;\n",
        "    }\n",
        "\n",
        "    public Team getAwayTeam()\n",
        "    {\n",
        "        return awayTeam;\n",
        "    }\n",
        "\n",
        "    /**\n",
        "     * simula el partido entre dos equipos\n",
        "     * actualiza goles, estadisticas y simula el tiempo de procesamiento\n",
        "     */\n",
        "    public void simulate()\n",
        "    {\n",
        "        long startTime = System.currentTimeMillis();\n",
        "\n",
        "        // genera goles aleatoriamente para ambos equipos\n",
        "        int homeGoals = ThreadLocalRandom.current().nextInt(0, MAX_GOALS + 1);\n",
        "        int awayGoals = ThreadLocalRandom.current().nextInt(0, MAX_GOALS + 1);\n",
        "\n",
        "        // actualizo estadisticas\n",
        "        homeTeam.setGoalsFor(homeTeam.getGoalsFor() + homeGoals);\n",
        "        homeTeam.setGoalsAgainst(homeTeam.getGoalsAgainst() + awayGoals);\n",
        "\n",
        "        awayTeam.setGoalsFor(awayTeam.getGoalsFor() + awayGoals);\n",
        "        awayTeam.setGoalsAgainst(awayTeam.getGoalsAgainst() + homeGoals);\n",
        "\n",
        "\n",
        "        homeTeam.setGoalDifference(homeTeam.getGoalsFor() - homeTeam.getGoalsAgainst());\n",
        "        awayTeam.setGoalDifference(awayTeam.getGoalsFor() - awayTeam.getGoalsAgainst());\n",
        "\n",
        "\n",
        "        homeTeam.setMatchesPlayed(homeTeam.getMatchesPlayed() + 1);\n",
        "        awayTeam.setMatchesPlayed(awayTeam.getMatchesPlayed() + 1);\n",
        "\n",
        "        // determina el resultado del partido, y luego actualiza\n",
        "        if (homeGoals > awayGoals)\n",
        "        {\n",
        "            homeTeam.setWins(homeTeam.getWins() + 1);\n",
        "            awayTeam.setLosses(awayTeam.getLosses() + 1);\n",
        "            homeTeam.setPoints(homeTeam.getPoints() + WIN_POINTS);\n",
        "        }\n",
        "        else if (awayGoals > homeGoals)\n",
        "        {\n",
        "            awayTeam.setWins(awayTeam.getWins() + 1);\n",
        "            homeTeam.setLosses(homeTeam.getLosses() + 1);\n",
        "            awayTeam.setPoints(awayTeam.getPoints() + WIN_POINTS);\n",
        "        }\n",
        "        else\n",
        "        {\n",
        "            homeTeam.setDraws(homeTeam.getDraws() + 1);\n",
        "            awayTeam.setDraws(awayTeam.getDraws() + 1);\n",
        "            homeTeam.setPoints(homeTeam.getPoints() + DRAW_POINTS);\n",
        "            awayTeam.setPoints(awayTeam.getPoints() + DRAW_POINTS);\n",
        "        }\n",
        "\n",
        "        // simula el delay para que cada partido dure entre 100 y 150 ms\n",
        "        long processingTime = System.currentTimeMillis() - startTime;\n",
        "        long totalDuration = ThreadLocalRandom.current().nextLong(MIN_SLEEP_MS, MAX_SLEEP_MS + 1);\n",
        "        long remainingTime = totalDuration - processingTime;\n",
        "\n",
        "        if (remainingTime > 0)\n",
        "        {\n",
        "            try\n",
        "            {\n",
        "                Thread.sleep(remainingTime);\n",
        "            }\n",
        "            catch (InterruptedException e)\n",
        "            {\n",
        "                Thread.currentThread().interrupt();\n",
        "            }\n",
        "        }\n",
        "    }\n",
        "}\n"
      ]
    },
    {
      "cell_type": "markdown",
      "metadata": {
        "id": "BiHfametbl3k"
      },
      "source": [
        "Usamos la clase Team para guardar las estadísticas de cada participante de la liga, para posteriormente mostrarlo ordenarlo y mostrarlo en una tabla."
      ]
    },
    {
      "cell_type": "code",
      "execution_count": null,
      "metadata": {
        "colab": {
          "base_uri": "https://localhost:8080/"
        },
        "id": "pjrMLZWpflx7",
        "outputId": "d98c7976-07f8-417f-f1ee-c58dfce48b59"
      },
      "outputs": [
        {
          "output_type": "stream",
          "name": "stdout",
          "text": [
            "Writing ProgaConcu/Team.java\n"
          ]
        }
      ],
      "source": [
        "%%writefile ProgaConcu/Team.java\n",
        "package ProgaConcu;\n",
        "\n",
        "public class Team\n",
        "{\n",
        "    private String name;\n",
        "    private int points;\n",
        "    private int matchesPlayed;\n",
        "    private int wins;\n",
        "    private int losses;\n",
        "    private int draws;\n",
        "    private int goalsFor;\n",
        "    private int goalsAgainst;\n",
        "    private int goalDifference;\n",
        "\n",
        "    public Team(String name)\n",
        "    {\n",
        "        this.name = name;\n",
        "        this.points = 0;\n",
        "        this.matchesPlayed = 0;\n",
        "        this.wins = 0;\n",
        "        this.losses = 0;\n",
        "        this.draws = 0;\n",
        "        this.goalsFor = 0;\n",
        "        this.goalsAgainst = 0;\n",
        "        this.goalDifference = 0;\n",
        "    }\n",
        "\n",
        "    // Getters y Setters\n",
        "\n",
        "    public String getName()\n",
        "    {\n",
        "        return name;\n",
        "    }\n",
        "\n",
        "    public void setName(String name)\n",
        "    {\n",
        "        this.name = name;\n",
        "    }\n",
        "\n",
        "    public int getPoints()\n",
        "    {\n",
        "        return points;\n",
        "    }\n",
        "\n",
        "    public void setPoints(int points)\n",
        "    {\n",
        "        this.points = points;\n",
        "    }\n",
        "\n",
        "    public int getMatchesPlayed()\n",
        "    {\n",
        "        return matchesPlayed;\n",
        "    }\n",
        "\n",
        "    public void setMatchesPlayed(int matchesPlayed)\n",
        "    {\n",
        "        this.matchesPlayed = matchesPlayed;\n",
        "    }\n",
        "\n",
        "    public int getWins()\n",
        "    {\n",
        "        return wins;\n",
        "    }\n",
        "\n",
        "    public void setWins(int wins)\n",
        "    {\n",
        "        this.wins = wins;\n",
        "    }\n",
        "\n",
        "    public int getLosses()\n",
        "    {\n",
        "        return losses;\n",
        "    }\n",
        "\n",
        "    public void setLosses(int losses)\n",
        "    {\n",
        "        this.losses = losses;\n",
        "    }\n",
        "\n",
        "    public int getDraws()\n",
        "    {\n",
        "        return draws;\n",
        "    }\n",
        "\n",
        "    public void setDraws(int draws)\n",
        "    {\n",
        "        this.draws = draws;\n",
        "    }\n",
        "\n",
        "    public int getGoalsFor()\n",
        "    {\n",
        "        return goalsFor;\n",
        "    }\n",
        "\n",
        "    public void setGoalsFor(int goalsFor)\n",
        "    {\n",
        "        this.goalsFor = goalsFor;\n",
        "    }\n",
        "\n",
        "    public int getGoalsAgainst()\n",
        "    {\n",
        "        return goalsAgainst;\n",
        "    }\n",
        "\n",
        "    public void setGoalsAgainst(int goalsAgainst)\n",
        "    {\n",
        "        this.goalsAgainst = goalsAgainst;\n",
        "    }\n",
        "\n",
        "    public int getGoalDifference()\n",
        "    {\n",
        "        return goalDifference;\n",
        "    }\n",
        "\n",
        "    public void setGoalDifference(int goalDifference)\n",
        "    {\n",
        "        this.goalDifference = goalDifference;\n",
        "    }\n",
        "}\n",
        "\n"
      ]
    },
    {
      "cell_type": "code",
      "execution_count": null,
      "metadata": {
        "id": "gTQizlpDJYDL"
      },
      "outputs": [],
      "source": [
        "!javac ProgaConcu/*.java"
      ]
    },
    {
      "cell_type": "code",
      "execution_count": null,
      "metadata": {
        "id": "Ikq9VrbwJwdE",
        "colab": {
          "base_uri": "https://localhost:8080/"
        },
        "outputId": "90e46d80-0650-4a9b-af80-72e5bd6c00a0"
      },
      "outputs": [
        {
          "output_type": "stream",
          "name": "stdout",
          "text": [
            "Team                 PTS  MP   W   D   L  GF  GA   GD\n",
            "Dep Español           39  19  13   0   6  58  41   17\n",
            "Lanus                 36  19  12   0   7  63  44   19\n",
            "Mandiyu               35  19  11   2   6  50  36   14\n",
            "River                 35  19  10   5   4  50  39   11\n",
            "Boca                  33  19  11   0   8  54  44   10\n",
            "Gimnasia LP           32  19  10   2   7  59  59    0\n",
            "Newells               31  19   9   4   6  54  43   11\n",
            "San Martin(T)         31  19   9   4   6  46  37    9\n",
            "San Lorenzo           31  19  10   1   8  56  53    3\n",
            "Belgrano              28  19   9   1   9  51  46    5\n",
            "Argentinos            28  19   8   4   7  51  50    1\n",
            "Estudiantes           27  19   8   3   8  55  57   -2\n",
            "Talleres              24  19   7   3   9  44  52   -8\n",
            "Velez                 24  19   8   0  11  46  60  -14\n",
            "Independiente         23  19   7   2  10  54  54    0\n",
            "Platense              22  19   6   4   9  41  49   -8\n",
            "Huracan               21  19   6   3  10  47  59  -12\n",
            "Ferro                 21  19   6   3  10  38  56  -18\n",
            "Rosario Central       13  19   3   4  12  43  58  -15\n",
            "Racing Club           11  19   2   5  12  43  66  -23\n",
            "Sequential execution time: 24 seconds\n",
            "Team                 PTS  MP   W   D   L  GF  GA   GD\n",
            "Gimnasia LP           36  19  12   0   7  47  38    9\n",
            "Mandiyu               34  19  10   4   5  58  52    6\n",
            "Velez                 33  19   9   6   4  67  48   19\n",
            "River                 32  19   9   5   5  56  41   15\n",
            "Ferro                 32  19  10   2   7  54  40   14\n",
            "Huracan               32  19   9   5   5  47  42    5\n",
            "Belgrano              29  19   8   5   6  48  36   12\n",
            "Lanus                 28  19   8   4   7  42  44   -2\n",
            "Rosario Central       26  19   7   5   7  45  48   -3\n",
            "Platense              26  19   8   2   9  47  56   -9\n",
            "Newells               25  19   7   4   8  58  60   -2\n",
            "Racing Club           25  19   7   4   8  56  61   -5\n",
            "Boca                  24  19   7   3   9  45  47   -2\n",
            "Argentinos            24  19   7   3   9  57  70  -13\n",
            "Independiente         24  19   7   3   9  41  55  -14\n",
            "San Lorenzo           23  19   7   2  10  43  44   -1\n",
            "Dep Español           23  19   6   5   8  48  50   -2\n",
            "San Martin(T)         22  19   6   4   9  49  53   -4\n",
            "Estudiantes           18  19   5   3  11  40  48   -8\n",
            "Talleres              18  19   5   3  11  47  62  -15\n",
            "Concurrent execution time: 2 seconds\n"
          ]
        }
      ],
      "source": [
        "!java ProgaConcu.League"
      ]
    },
    {
      "cell_type": "markdown",
      "metadata": {
        "id": "WSh9P6ujXB4H"
      },
      "source": [
        "# Ejercicio 3\n"
      ]
    },
    {
      "cell_type": "markdown",
      "source": [
        "Primero generamos el archivo \"visualizaciones.csv\" de ejemplo"
      ],
      "metadata": {
        "id": "En--x23zAR1f"
      }
    },
    {
      "cell_type": "code",
      "source": [
        "import csv\n",
        "\n",
        "data = [\n",
        "    [\"user_id\", \"user_name\", \"title\", \"type\", \"genre\"],\n",
        "    [1, \"p_kiki\", \"Hereditary\", \"Pelicula\", \"Terror\"],\n",
        "    [2, \"daro123\", \"La Casa de Papel\", \"Serie\", \"Drama\"],\n",
        "    [1, \"p_kiki\", \"The Office\", \"Serie\", \"Comedia\"],\n",
        "    [1, \"p_kiki\", \"Game of Thrones\", \"Serie\", \"Drama\"],\n",
        "    [1, \"p_kiki\", \"Breaking Bad\", \"Serie\", \"Drama\"],\n",
        "    [1, \"p_kiki\", \"Vikings\", \"Serie\", \"Drama\"],\n",
        "    [3, \"pepe22\", \"The Walking Dead\", \"Serie\", \"Zombies\"]\n",
        "]\n",
        "\n",
        "\n",
        "with open(\"visualizaciones.csv\", mode=\"w\", newline='', encoding=\"utf-8\") as csv_file:\n",
        "    writer = csv.writer(csv_file)\n",
        "    writer.writerows(data)\n",
        "\n",
        "print(\"Archivo 'visualizaciones.csv' creado con éxito.\")\n"
      ],
      "metadata": {
        "colab": {
          "base_uri": "https://localhost:8080/"
        },
        "id": "V4V_oH0gAQoA",
        "outputId": "985982df-e672-4778-f5fd-5caf72d51d83"
      },
      "execution_count": null,
      "outputs": [
        {
          "output_type": "stream",
          "name": "stdout",
          "text": [
            "Archivo 'visualizaciones.csv' creado con éxito.\n"
          ]
        }
      ]
    },
    {
      "cell_type": "code",
      "source": [
        "import pandas as pd\n",
        "import threading as th\n",
        "import json\n",
        "\n",
        "\n",
        "def main():\n",
        "\n",
        "    input_file = 'visualizaciones.csv'\n",
        "    output_file = 'preferencias.json'\n",
        "    data_frame = pd.read_csv(input_file)\n",
        "    preferences = []\n",
        "\n",
        "    users = data_frame['user_id'].unique().tolist()\n",
        "    threads = []\n",
        "\n",
        "    for user in users:\n",
        "        user_views = data_frame[data_frame['user_id'] == user]\n",
        "        user_thread = th.Thread(target=get_preference, name=str(user), args=(user_views, preferences))\n",
        "        user_thread.start()\n",
        "        threads.append(user_thread)\n",
        "\n",
        "    for thread in threads:\n",
        "        thread.join()\n",
        "\n",
        "    with open(output_file, \"w\") as f:\n",
        "        json.dump(preferences, f, indent=4, ensure_ascii=False)\n",
        "\n",
        "    print(f\"El archivo {output_file} ha sido creado con éxito.\")\n",
        "\n",
        "\n",
        "def get_preference(user_views, preferences):\n",
        "\n",
        "    user_preferences = {\n",
        "        \"user_id\": str(user_views['user_id'].iloc[0]),\n",
        "        \"user_name\": str(user_views['user_name'].iloc[0]),\n",
        "        \"chosen_type\": str(get_preference_field(user_views, 'type')),\n",
        "        \"chosen_genre\": str(get_preference_field(user_views, 'genre')),\n",
        "        \"total\": int(user_views.shape[0]),\n",
        "        \"different_genres\": int(user_views['genre'].unique().shape[0])\n",
        "    }\n",
        "\n",
        "    preferences.append(user_preferences)\n",
        "\n",
        "\n",
        "def get_preference_field(user_views, field):\n",
        "\n",
        "    return user_views[field].mode()[0]\n",
        "\n",
        "\n",
        "if __name__ == \"__main__\":\n",
        "    main()"
      ],
      "metadata": {
        "colab": {
          "base_uri": "https://localhost:8080/"
        },
        "id": "9xPO3IXGhzax",
        "outputId": "f7ded96c-6e32-49c2-f965-4797fc90f039"
      },
      "execution_count": null,
      "outputs": [
        {
          "output_type": "stream",
          "name": "stdout",
          "text": [
            "El archivo preferencias.json ha sido creado con éxito.\n"
          ]
        }
      ]
    },
    {
      "cell_type": "code",
      "source": [],
      "metadata": {
        "id": "Gs_e6tJ0h0W4"
      },
      "execution_count": null,
      "outputs": []
    }
  ],
  "metadata": {
    "colab": {
      "provenance": []
    },
    "kernelspec": {
      "display_name": "Python 3",
      "name": "python3"
    },
    "language_info": {
      "name": "python"
    }
  },
  "nbformat": 4,
  "nbformat_minor": 0
}